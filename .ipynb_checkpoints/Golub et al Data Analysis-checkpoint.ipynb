{
 "cells": [
  {
   "cell_type": "markdown",
   "metadata": {},
   "source": [
    "## Golub gene expression classification \n",
    "\n",
    "reference:\n",
    "https://www.kaggle.com/varimp/gene-expression-classification/data\n",
    "\n",
    "\n",
    "Good notes here as well:\n",
    "https://www.kaggle.com/kanav0183/pca-analysis-for-geneclassification\n",
    "\n",
    "\n",
    "Another useful resource on GridSearch CV : https://www.kaggle.com/rstogi896/geneclassification-using-gridsearchcv-and-svm"
   ]
  },
  {
   "cell_type": "code",
   "execution_count": 1,
   "metadata": {},
   "outputs": [
    {
     "name": "stderr",
     "output_type": "stream",
     "text": [
      "/Users/valentinastoma/opt/anaconda2/envs/py38/lib/python3.8/site-packages/tensorflow/python/framework/dtypes.py:523: FutureWarning: Passing (type, 1) or '1type' as a synonym of type is deprecated; in a future version of numpy, it will be understood as (type, (1,)) / '(1,)type'.\n",
      "  _np_qint8 = np.dtype([(\"qint8\", np.int8, 1)])\n",
      "/Users/valentinastoma/opt/anaconda2/envs/py38/lib/python3.8/site-packages/tensorflow/python/framework/dtypes.py:524: FutureWarning: Passing (type, 1) or '1type' as a synonym of type is deprecated; in a future version of numpy, it will be understood as (type, (1,)) / '(1,)type'.\n",
      "  _np_quint8 = np.dtype([(\"quint8\", np.uint8, 1)])\n",
      "/Users/valentinastoma/opt/anaconda2/envs/py38/lib/python3.8/site-packages/tensorflow/python/framework/dtypes.py:525: FutureWarning: Passing (type, 1) or '1type' as a synonym of type is deprecated; in a future version of numpy, it will be understood as (type, (1,)) / '(1,)type'.\n",
      "  _np_qint16 = np.dtype([(\"qint16\", np.int16, 1)])\n",
      "/Users/valentinastoma/opt/anaconda2/envs/py38/lib/python3.8/site-packages/tensorflow/python/framework/dtypes.py:526: FutureWarning: Passing (type, 1) or '1type' as a synonym of type is deprecated; in a future version of numpy, it will be understood as (type, (1,)) / '(1,)type'.\n",
      "  _np_quint16 = np.dtype([(\"quint16\", np.uint16, 1)])\n",
      "/Users/valentinastoma/opt/anaconda2/envs/py38/lib/python3.8/site-packages/tensorflow/python/framework/dtypes.py:527: FutureWarning: Passing (type, 1) or '1type' as a synonym of type is deprecated; in a future version of numpy, it will be understood as (type, (1,)) / '(1,)type'.\n",
      "  _np_qint32 = np.dtype([(\"qint32\", np.int32, 1)])\n",
      "/Users/valentinastoma/opt/anaconda2/envs/py38/lib/python3.8/site-packages/tensorflow/python/framework/dtypes.py:532: FutureWarning: Passing (type, 1) or '1type' as a synonym of type is deprecated; in a future version of numpy, it will be understood as (type, (1,)) / '(1,)type'.\n",
      "  np_resource = np.dtype([(\"resource\", np.ubyte, 1)])\n",
      "<frozen importlib._bootstrap>:219: RuntimeWarning: compiletime version 3.6 of module 'tensorflow.python.framework.fast_tensor_util' does not match runtime version 3.8\n",
      "<frozen importlib._bootstrap>:219: RuntimeWarning: builtins.type size changed, may indicate binary incompatibility. Expected 880, got 864\n"
     ]
    }
   ],
   "source": [
    "# Import all the libraries that we shall be using\n",
    "import numpy as np\n",
    "import pandas as pd\n",
    "\n",
    "import matplotlib.pyplot as plt\n",
    "import seaborn as sns\n",
    "from mpl_toolkits.mplot3d import Axes3D\n",
    "%matplotlib inline\n",
    "\n",
    "from sklearn.preprocessing import StandardScaler\n",
    "from sklearn.decomposition import PCA\n",
    "from sklearn.model_selection import GridSearchCV, cross_val_score\n",
    "from sklearn.metrics import accuracy_score, confusion_matrix\n",
    "from sklearn.cluster import KMeans\n",
    "from sklearn.svm import SVC\n",
    "from sklearn.linear_model import LogisticRegression\n",
    "from sklearn.naive_bayes import GaussianNB\n",
    "from sklearn.ensemble import RandomForestClassifier\n",
    "\n",
    "import xgboost as xgb\n",
    "#import keras\n",
    "# need to add the tensorflow before calling anything from keras \n",
    "from tensorflow.keras.models import Sequential\n",
    "from tensorflow.keras.layers import Dense\n",
    "from tensorflow.keras.callbacks import EarlyStopping"
   ]
  },
  {
   "cell_type": "code",
   "execution_count": 2,
   "metadata": {},
   "outputs": [
    {
     "name": "stdout",
     "output_type": "stream",
     "text": [
      "(72, 2)\n"
     ]
    },
    {
     "data": {
      "text/html": [
       "<div>\n",
       "<style scoped>\n",
       "    .dataframe tbody tr th:only-of-type {\n",
       "        vertical-align: middle;\n",
       "    }\n",
       "\n",
       "    .dataframe tbody tr th {\n",
       "        vertical-align: top;\n",
       "    }\n",
       "\n",
       "    .dataframe thead th {\n",
       "        text-align: right;\n",
       "    }\n",
       "</style>\n",
       "<table border=\"1\" class=\"dataframe\">\n",
       "  <thead>\n",
       "    <tr style=\"text-align: right;\">\n",
       "      <th></th>\n",
       "      <th>patient</th>\n",
       "      <th>cancer</th>\n",
       "    </tr>\n",
       "  </thead>\n",
       "  <tbody>\n",
       "    <tr>\n",
       "      <th>0</th>\n",
       "      <td>1</td>\n",
       "      <td>ALL</td>\n",
       "    </tr>\n",
       "    <tr>\n",
       "      <th>1</th>\n",
       "      <td>2</td>\n",
       "      <td>ALL</td>\n",
       "    </tr>\n",
       "    <tr>\n",
       "      <th>2</th>\n",
       "      <td>3</td>\n",
       "      <td>ALL</td>\n",
       "    </tr>\n",
       "    <tr>\n",
       "      <th>3</th>\n",
       "      <td>4</td>\n",
       "      <td>ALL</td>\n",
       "    </tr>\n",
       "    <tr>\n",
       "      <th>4</th>\n",
       "      <td>5</td>\n",
       "      <td>ALL</td>\n",
       "    </tr>\n",
       "  </tbody>\n",
       "</table>\n",
       "</div>"
      ],
      "text/plain": [
       "   patient cancer\n",
       "0        1    ALL\n",
       "1        2    ALL\n",
       "2        3    ALL\n",
       "3        4    ALL\n",
       "4        5    ALL"
      ]
     },
     "execution_count": 2,
     "metadata": {},
     "output_type": "execute_result"
    }
   ],
   "source": [
    "y = pd.read_csv('actual.csv')\n",
    "print(y.shape)\n",
    "y.head()"
   ]
  },
  {
   "cell_type": "code",
   "execution_count": 3,
   "metadata": {},
   "outputs": [
    {
     "data": {
      "text/plain": [
       "ALL    47\n",
       "AML    25\n",
       "Name: cancer, dtype: int64"
      ]
     },
     "execution_count": 3,
     "metadata": {},
     "output_type": "execute_result"
    }
   ],
   "source": [
    "y['cancer'].value_counts()"
   ]
  },
  {
   "cell_type": "code",
   "execution_count": 4,
   "metadata": {},
   "outputs": [],
   "source": [
    "# Recode label to numeric\n",
    "y = y.replace({'ALL':0,'AML':1})\n",
    "labels = ['ALL', 'AML'] # for plotting convenience later on"
   ]
  },
  {
   "cell_type": "code",
   "execution_count": 5,
   "metadata": {},
   "outputs": [
    {
     "name": "stdout",
     "output_type": "stream",
     "text": [
      "(7129, 78)\n",
      "(7129, 70)\n"
     ]
    }
   ],
   "source": [
    "# Import training data\n",
    "df_train = pd.read_csv('data_set_ALL_AML_train.csv')\n",
    "print(df_train.shape)\n",
    "\n",
    "# Import testing data\n",
    "df_test = pd.read_csv('data_set_ALL_AML_independent.csv')\n",
    "print(df_test.shape)"
   ]
  },
  {
   "cell_type": "code",
   "execution_count": 6,
   "metadata": {},
   "outputs": [
    {
     "data": {
      "text/html": [
       "<div>\n",
       "<style scoped>\n",
       "    .dataframe tbody tr th:only-of-type {\n",
       "        vertical-align: middle;\n",
       "    }\n",
       "\n",
       "    .dataframe tbody tr th {\n",
       "        vertical-align: top;\n",
       "    }\n",
       "\n",
       "    .dataframe thead th {\n",
       "        text-align: right;\n",
       "    }\n",
       "</style>\n",
       "<table border=\"1\" class=\"dataframe\">\n",
       "  <thead>\n",
       "    <tr style=\"text-align: right;\">\n",
       "      <th></th>\n",
       "      <th>Gene Description</th>\n",
       "      <th>Gene Accession Number</th>\n",
       "      <th>1</th>\n",
       "      <th>call</th>\n",
       "      <th>2</th>\n",
       "      <th>call.1</th>\n",
       "      <th>3</th>\n",
       "      <th>call.2</th>\n",
       "      <th>4</th>\n",
       "      <th>call.3</th>\n",
       "      <th>...</th>\n",
       "      <th>29</th>\n",
       "      <th>call.33</th>\n",
       "      <th>30</th>\n",
       "      <th>call.34</th>\n",
       "      <th>31</th>\n",
       "      <th>call.35</th>\n",
       "      <th>32</th>\n",
       "      <th>call.36</th>\n",
       "      <th>33</th>\n",
       "      <th>call.37</th>\n",
       "    </tr>\n",
       "  </thead>\n",
       "  <tbody>\n",
       "    <tr>\n",
       "      <th>0</th>\n",
       "      <td>AFFX-BioB-5_at (endogenous control)</td>\n",
       "      <td>AFFX-BioB-5_at</td>\n",
       "      <td>-214</td>\n",
       "      <td>A</td>\n",
       "      <td>-139</td>\n",
       "      <td>A</td>\n",
       "      <td>-76</td>\n",
       "      <td>A</td>\n",
       "      <td>-135</td>\n",
       "      <td>A</td>\n",
       "      <td>...</td>\n",
       "      <td>15</td>\n",
       "      <td>A</td>\n",
       "      <td>-318</td>\n",
       "      <td>A</td>\n",
       "      <td>-32</td>\n",
       "      <td>A</td>\n",
       "      <td>-124</td>\n",
       "      <td>A</td>\n",
       "      <td>-135</td>\n",
       "      <td>A</td>\n",
       "    </tr>\n",
       "    <tr>\n",
       "      <th>1</th>\n",
       "      <td>AFFX-BioB-M_at (endogenous control)</td>\n",
       "      <td>AFFX-BioB-M_at</td>\n",
       "      <td>-153</td>\n",
       "      <td>A</td>\n",
       "      <td>-73</td>\n",
       "      <td>A</td>\n",
       "      <td>-49</td>\n",
       "      <td>A</td>\n",
       "      <td>-114</td>\n",
       "      <td>A</td>\n",
       "      <td>...</td>\n",
       "      <td>-114</td>\n",
       "      <td>A</td>\n",
       "      <td>-192</td>\n",
       "      <td>A</td>\n",
       "      <td>-49</td>\n",
       "      <td>A</td>\n",
       "      <td>-79</td>\n",
       "      <td>A</td>\n",
       "      <td>-186</td>\n",
       "      <td>A</td>\n",
       "    </tr>\n",
       "    <tr>\n",
       "      <th>2</th>\n",
       "      <td>AFFX-BioB-3_at (endogenous control)</td>\n",
       "      <td>AFFX-BioB-3_at</td>\n",
       "      <td>-58</td>\n",
       "      <td>A</td>\n",
       "      <td>-1</td>\n",
       "      <td>A</td>\n",
       "      <td>-307</td>\n",
       "      <td>A</td>\n",
       "      <td>265</td>\n",
       "      <td>A</td>\n",
       "      <td>...</td>\n",
       "      <td>2</td>\n",
       "      <td>A</td>\n",
       "      <td>-95</td>\n",
       "      <td>A</td>\n",
       "      <td>49</td>\n",
       "      <td>A</td>\n",
       "      <td>-37</td>\n",
       "      <td>A</td>\n",
       "      <td>-70</td>\n",
       "      <td>A</td>\n",
       "    </tr>\n",
       "    <tr>\n",
       "      <th>3</th>\n",
       "      <td>AFFX-BioC-5_at (endogenous control)</td>\n",
       "      <td>AFFX-BioC-5_at</td>\n",
       "      <td>88</td>\n",
       "      <td>A</td>\n",
       "      <td>283</td>\n",
       "      <td>A</td>\n",
       "      <td>309</td>\n",
       "      <td>A</td>\n",
       "      <td>12</td>\n",
       "      <td>A</td>\n",
       "      <td>...</td>\n",
       "      <td>193</td>\n",
       "      <td>A</td>\n",
       "      <td>312</td>\n",
       "      <td>A</td>\n",
       "      <td>230</td>\n",
       "      <td>P</td>\n",
       "      <td>330</td>\n",
       "      <td>A</td>\n",
       "      <td>337</td>\n",
       "      <td>A</td>\n",
       "    </tr>\n",
       "    <tr>\n",
       "      <th>4</th>\n",
       "      <td>AFFX-BioC-3_at (endogenous control)</td>\n",
       "      <td>AFFX-BioC-3_at</td>\n",
       "      <td>-295</td>\n",
       "      <td>A</td>\n",
       "      <td>-264</td>\n",
       "      <td>A</td>\n",
       "      <td>-376</td>\n",
       "      <td>A</td>\n",
       "      <td>-419</td>\n",
       "      <td>A</td>\n",
       "      <td>...</td>\n",
       "      <td>-51</td>\n",
       "      <td>A</td>\n",
       "      <td>-139</td>\n",
       "      <td>A</td>\n",
       "      <td>-367</td>\n",
       "      <td>A</td>\n",
       "      <td>-188</td>\n",
       "      <td>A</td>\n",
       "      <td>-407</td>\n",
       "      <td>A</td>\n",
       "    </tr>\n",
       "  </tbody>\n",
       "</table>\n",
       "<p>5 rows × 78 columns</p>\n",
       "</div>"
      ],
      "text/plain": [
       "                      Gene Description Gene Accession Number    1 call    2  \\\n",
       "0  AFFX-BioB-5_at (endogenous control)        AFFX-BioB-5_at -214    A -139   \n",
       "1  AFFX-BioB-M_at (endogenous control)        AFFX-BioB-M_at -153    A  -73   \n",
       "2  AFFX-BioB-3_at (endogenous control)        AFFX-BioB-3_at  -58    A   -1   \n",
       "3  AFFX-BioC-5_at (endogenous control)        AFFX-BioC-5_at   88    A  283   \n",
       "4  AFFX-BioC-3_at (endogenous control)        AFFX-BioC-3_at -295    A -264   \n",
       "\n",
       "  call.1    3 call.2    4 call.3  ...   29 call.33   30 call.34   31 call.35  \\\n",
       "0      A  -76      A -135      A  ...   15       A -318       A  -32       A   \n",
       "1      A  -49      A -114      A  ... -114       A -192       A  -49       A   \n",
       "2      A -307      A  265      A  ...    2       A  -95       A   49       A   \n",
       "3      A  309      A   12      A  ...  193       A  312       A  230       P   \n",
       "4      A -376      A -419      A  ...  -51       A -139       A -367       A   \n",
       "\n",
       "    32 call.36   33 call.37  \n",
       "0 -124       A -135       A  \n",
       "1  -79       A -186       A  \n",
       "2  -37       A  -70       A  \n",
       "3  330       A  337       A  \n",
       "4 -188       A -407       A  \n",
       "\n",
       "[5 rows x 78 columns]"
      ]
     },
     "execution_count": 6,
     "metadata": {},
     "output_type": "execute_result"
    }
   ],
   "source": [
    "df_train.head()"
   ]
  },
  {
   "cell_type": "code",
   "execution_count": 7,
   "metadata": {},
   "outputs": [
    {
     "data": {
      "text/html": [
       "<div>\n",
       "<style scoped>\n",
       "    .dataframe tbody tr th:only-of-type {\n",
       "        vertical-align: middle;\n",
       "    }\n",
       "\n",
       "    .dataframe tbody tr th {\n",
       "        vertical-align: top;\n",
       "    }\n",
       "\n",
       "    .dataframe thead th {\n",
       "        text-align: right;\n",
       "    }\n",
       "</style>\n",
       "<table border=\"1\" class=\"dataframe\">\n",
       "  <thead>\n",
       "    <tr style=\"text-align: right;\">\n",
       "      <th></th>\n",
       "      <th>patient</th>\n",
       "      <th>cancer</th>\n",
       "    </tr>\n",
       "  </thead>\n",
       "  <tbody>\n",
       "    <tr>\n",
       "      <th>0</th>\n",
       "      <td>1</td>\n",
       "      <td>0</td>\n",
       "    </tr>\n",
       "    <tr>\n",
       "      <th>1</th>\n",
       "      <td>2</td>\n",
       "      <td>0</td>\n",
       "    </tr>\n",
       "    <tr>\n",
       "      <th>2</th>\n",
       "      <td>3</td>\n",
       "      <td>0</td>\n",
       "    </tr>\n",
       "    <tr>\n",
       "      <th>3</th>\n",
       "      <td>4</td>\n",
       "      <td>0</td>\n",
       "    </tr>\n",
       "    <tr>\n",
       "      <th>4</th>\n",
       "      <td>5</td>\n",
       "      <td>0</td>\n",
       "    </tr>\n",
       "    <tr>\n",
       "      <th>...</th>\n",
       "      <td>...</td>\n",
       "      <td>...</td>\n",
       "    </tr>\n",
       "    <tr>\n",
       "      <th>67</th>\n",
       "      <td>68</td>\n",
       "      <td>0</td>\n",
       "    </tr>\n",
       "    <tr>\n",
       "      <th>68</th>\n",
       "      <td>69</td>\n",
       "      <td>0</td>\n",
       "    </tr>\n",
       "    <tr>\n",
       "      <th>69</th>\n",
       "      <td>70</td>\n",
       "      <td>0</td>\n",
       "    </tr>\n",
       "    <tr>\n",
       "      <th>70</th>\n",
       "      <td>71</td>\n",
       "      <td>0</td>\n",
       "    </tr>\n",
       "    <tr>\n",
       "      <th>71</th>\n",
       "      <td>72</td>\n",
       "      <td>0</td>\n",
       "    </tr>\n",
       "  </tbody>\n",
       "</table>\n",
       "<p>72 rows × 2 columns</p>\n",
       "</div>"
      ],
      "text/plain": [
       "    patient  cancer\n",
       "0         1       0\n",
       "1         2       0\n",
       "2         3       0\n",
       "3         4       0\n",
       "4         5       0\n",
       "..      ...     ...\n",
       "67       68       0\n",
       "68       69       0\n",
       "69       70       0\n",
       "70       71       0\n",
       "71       72       0\n",
       "\n",
       "[72 rows x 2 columns]"
      ]
     },
     "execution_count": 7,
     "metadata": {},
     "output_type": "execute_result"
    }
   ],
   "source": [
    "y "
   ]
  },
  {
   "cell_type": "code",
   "execution_count": 8,
   "metadata": {},
   "outputs": [],
   "source": [
    "train_to_keep = [col for col in df_train.columns if \"call\" not in col]\n",
    "test_to_keep = [col for col in df_test.columns if \"call\" not in col]"
   ]
  },
  {
   "cell_type": "code",
   "execution_count": 9,
   "metadata": {},
   "outputs": [],
   "source": [
    "X_train_tr = df_train[train_to_keep]\n",
    "X_test_tr = df_test[test_to_keep]"
   ]
  },
  {
   "cell_type": "code",
   "execution_count": 10,
   "metadata": {},
   "outputs": [],
   "source": [
    "train_columns_titles = ['Gene Description', 'Gene Accession Number', '1', '2', '3', '4', '5', '6', '7', '8', '9', '10',\n",
    "       '11', '12', '13', '14', '15', '16', '17', '18', '19', '20', '21', '22', '23', '24', '25', \n",
    "       '26', '27', '28', '29', '30', '31', '32', '33', '34', '35', '36', '37', '38']\n",
    "\n",
    "X_train_tr = X_train_tr.reindex(columns=train_columns_titles)"
   ]
  },
  {
   "cell_type": "code",
   "execution_count": 11,
   "metadata": {},
   "outputs": [],
   "source": [
    "test_columns_titles = ['Gene Description', 'Gene Accession Number','39', '40', '41', '42', '43', '44', '45', '46',\n",
    "       '47', '48', '49', '50', '51', '52', '53',  '54', '55', '56', '57', '58', '59',\n",
    "       '60', '61', '62', '63', '64', '65', '66', '67', '68', '69', '70', '71', '72']\n",
    "\n",
    "X_test_tr = X_test_tr.reindex(columns=test_columns_titles)"
   ]
  },
  {
   "cell_type": "code",
   "execution_count": 12,
   "metadata": {},
   "outputs": [
    {
     "name": "stdout",
     "output_type": "stream",
     "text": [
      "(40, 7129)\n"
     ]
    },
    {
     "data": {
      "text/html": [
       "<div>\n",
       "<style scoped>\n",
       "    .dataframe tbody tr th:only-of-type {\n",
       "        vertical-align: middle;\n",
       "    }\n",
       "\n",
       "    .dataframe tbody tr th {\n",
       "        vertical-align: top;\n",
       "    }\n",
       "\n",
       "    .dataframe thead th {\n",
       "        text-align: right;\n",
       "    }\n",
       "</style>\n",
       "<table border=\"1\" class=\"dataframe\">\n",
       "  <thead>\n",
       "    <tr style=\"text-align: right;\">\n",
       "      <th></th>\n",
       "      <th>0</th>\n",
       "      <th>1</th>\n",
       "      <th>2</th>\n",
       "      <th>3</th>\n",
       "      <th>4</th>\n",
       "      <th>5</th>\n",
       "      <th>6</th>\n",
       "      <th>7</th>\n",
       "      <th>8</th>\n",
       "      <th>9</th>\n",
       "      <th>...</th>\n",
       "      <th>7119</th>\n",
       "      <th>7120</th>\n",
       "      <th>7121</th>\n",
       "      <th>7122</th>\n",
       "      <th>7123</th>\n",
       "      <th>7124</th>\n",
       "      <th>7125</th>\n",
       "      <th>7126</th>\n",
       "      <th>7127</th>\n",
       "      <th>7128</th>\n",
       "    </tr>\n",
       "  </thead>\n",
       "  <tbody>\n",
       "    <tr>\n",
       "      <th>Gene Description</th>\n",
       "      <td>AFFX-BioB-5_at (endogenous control)</td>\n",
       "      <td>AFFX-BioB-M_at (endogenous control)</td>\n",
       "      <td>AFFX-BioB-3_at (endogenous control)</td>\n",
       "      <td>AFFX-BioC-5_at (endogenous control)</td>\n",
       "      <td>AFFX-BioC-3_at (endogenous control)</td>\n",
       "      <td>AFFX-BioDn-5_at (endogenous control)</td>\n",
       "      <td>AFFX-BioDn-3_at (endogenous control)</td>\n",
       "      <td>AFFX-CreX-5_at (endogenous control)</td>\n",
       "      <td>AFFX-CreX-3_at (endogenous control)</td>\n",
       "      <td>AFFX-BioB-5_st (endogenous control)</td>\n",
       "      <td>...</td>\n",
       "      <td>Transcription factor Stat5b (stat5b) mRNA</td>\n",
       "      <td>Breast epithelial antigen BA46 mRNA</td>\n",
       "      <td>GB DEF = Calcium/calmodulin-dependent protein ...</td>\n",
       "      <td>TUBULIN ALPHA-4 CHAIN</td>\n",
       "      <td>CYP4B1 Cytochrome P450; subfamily IVB; polypep...</td>\n",
       "      <td>PTGER3 Prostaglandin E receptor 3 (subtype EP3...</td>\n",
       "      <td>HMG2 High-mobility group (nonhistone chromosom...</td>\n",
       "      <td>RB1 Retinoblastoma 1 (including osteosarcoma)</td>\n",
       "      <td>GB DEF = Glycophorin Sta (type A) exons 3 and ...</td>\n",
       "      <td>GB DEF = mRNA (clone 1A7)</td>\n",
       "    </tr>\n",
       "    <tr>\n",
       "      <th>Gene Accession Number</th>\n",
       "      <td>AFFX-BioB-5_at</td>\n",
       "      <td>AFFX-BioB-M_at</td>\n",
       "      <td>AFFX-BioB-3_at</td>\n",
       "      <td>AFFX-BioC-5_at</td>\n",
       "      <td>AFFX-BioC-3_at</td>\n",
       "      <td>AFFX-BioDn-5_at</td>\n",
       "      <td>AFFX-BioDn-3_at</td>\n",
       "      <td>AFFX-CreX-5_at</td>\n",
       "      <td>AFFX-CreX-3_at</td>\n",
       "      <td>AFFX-BioB-5_st</td>\n",
       "      <td>...</td>\n",
       "      <td>U48730_at</td>\n",
       "      <td>U58516_at</td>\n",
       "      <td>U73738_at</td>\n",
       "      <td>X06956_at</td>\n",
       "      <td>X16699_at</td>\n",
       "      <td>X83863_at</td>\n",
       "      <td>Z17240_at</td>\n",
       "      <td>L49218_f_at</td>\n",
       "      <td>M71243_f_at</td>\n",
       "      <td>Z78285_f_at</td>\n",
       "    </tr>\n",
       "    <tr>\n",
       "      <th>1</th>\n",
       "      <td>-214</td>\n",
       "      <td>-153</td>\n",
       "      <td>-58</td>\n",
       "      <td>88</td>\n",
       "      <td>-295</td>\n",
       "      <td>-558</td>\n",
       "      <td>199</td>\n",
       "      <td>-176</td>\n",
       "      <td>252</td>\n",
       "      <td>206</td>\n",
       "      <td>...</td>\n",
       "      <td>185</td>\n",
       "      <td>511</td>\n",
       "      <td>-125</td>\n",
       "      <td>389</td>\n",
       "      <td>-37</td>\n",
       "      <td>793</td>\n",
       "      <td>329</td>\n",
       "      <td>36</td>\n",
       "      <td>191</td>\n",
       "      <td>-37</td>\n",
       "    </tr>\n",
       "    <tr>\n",
       "      <th>2</th>\n",
       "      <td>-139</td>\n",
       "      <td>-73</td>\n",
       "      <td>-1</td>\n",
       "      <td>283</td>\n",
       "      <td>-264</td>\n",
       "      <td>-400</td>\n",
       "      <td>-330</td>\n",
       "      <td>-168</td>\n",
       "      <td>101</td>\n",
       "      <td>74</td>\n",
       "      <td>...</td>\n",
       "      <td>169</td>\n",
       "      <td>837</td>\n",
       "      <td>-36</td>\n",
       "      <td>442</td>\n",
       "      <td>-17</td>\n",
       "      <td>782</td>\n",
       "      <td>295</td>\n",
       "      <td>11</td>\n",
       "      <td>76</td>\n",
       "      <td>-14</td>\n",
       "    </tr>\n",
       "    <tr>\n",
       "      <th>3</th>\n",
       "      <td>-76</td>\n",
       "      <td>-49</td>\n",
       "      <td>-307</td>\n",
       "      <td>309</td>\n",
       "      <td>-376</td>\n",
       "      <td>-650</td>\n",
       "      <td>33</td>\n",
       "      <td>-367</td>\n",
       "      <td>206</td>\n",
       "      <td>-215</td>\n",
       "      <td>...</td>\n",
       "      <td>315</td>\n",
       "      <td>1199</td>\n",
       "      <td>33</td>\n",
       "      <td>168</td>\n",
       "      <td>52</td>\n",
       "      <td>1138</td>\n",
       "      <td>777</td>\n",
       "      <td>41</td>\n",
       "      <td>228</td>\n",
       "      <td>-41</td>\n",
       "    </tr>\n",
       "  </tbody>\n",
       "</table>\n",
       "<p>5 rows × 7129 columns</p>\n",
       "</div>"
      ],
      "text/plain": [
       "                                                      0     \\\n",
       "Gene Description       AFFX-BioB-5_at (endogenous control)   \n",
       "Gene Accession Number                       AFFX-BioB-5_at   \n",
       "1                                                     -214   \n",
       "2                                                     -139   \n",
       "3                                                      -76   \n",
       "\n",
       "                                                      1     \\\n",
       "Gene Description       AFFX-BioB-M_at (endogenous control)   \n",
       "Gene Accession Number                       AFFX-BioB-M_at   \n",
       "1                                                     -153   \n",
       "2                                                      -73   \n",
       "3                                                      -49   \n",
       "\n",
       "                                                      2     \\\n",
       "Gene Description       AFFX-BioB-3_at (endogenous control)   \n",
       "Gene Accession Number                       AFFX-BioB-3_at   \n",
       "1                                                      -58   \n",
       "2                                                       -1   \n",
       "3                                                     -307   \n",
       "\n",
       "                                                      3     \\\n",
       "Gene Description       AFFX-BioC-5_at (endogenous control)   \n",
       "Gene Accession Number                       AFFX-BioC-5_at   \n",
       "1                                                       88   \n",
       "2                                                      283   \n",
       "3                                                      309   \n",
       "\n",
       "                                                      4     \\\n",
       "Gene Description       AFFX-BioC-3_at (endogenous control)   \n",
       "Gene Accession Number                       AFFX-BioC-3_at   \n",
       "1                                                     -295   \n",
       "2                                                     -264   \n",
       "3                                                     -376   \n",
       "\n",
       "                                                       5     \\\n",
       "Gene Description       AFFX-BioDn-5_at (endogenous control)   \n",
       "Gene Accession Number                       AFFX-BioDn-5_at   \n",
       "1                                                      -558   \n",
       "2                                                      -400   \n",
       "3                                                      -650   \n",
       "\n",
       "                                                       6     \\\n",
       "Gene Description       AFFX-BioDn-3_at (endogenous control)   \n",
       "Gene Accession Number                       AFFX-BioDn-3_at   \n",
       "1                                                       199   \n",
       "2                                                      -330   \n",
       "3                                                        33   \n",
       "\n",
       "                                                      7     \\\n",
       "Gene Description       AFFX-CreX-5_at (endogenous control)   \n",
       "Gene Accession Number                       AFFX-CreX-5_at   \n",
       "1                                                     -176   \n",
       "2                                                     -168   \n",
       "3                                                     -367   \n",
       "\n",
       "                                                      8     \\\n",
       "Gene Description       AFFX-CreX-3_at (endogenous control)   \n",
       "Gene Accession Number                       AFFX-CreX-3_at   \n",
       "1                                                      252   \n",
       "2                                                      101   \n",
       "3                                                      206   \n",
       "\n",
       "                                                      9     ...  \\\n",
       "Gene Description       AFFX-BioB-5_st (endogenous control)  ...   \n",
       "Gene Accession Number                       AFFX-BioB-5_st  ...   \n",
       "1                                                      206  ...   \n",
       "2                                                       74  ...   \n",
       "3                                                     -215  ...   \n",
       "\n",
       "                                                            7119  \\\n",
       "Gene Description       Transcription factor Stat5b (stat5b) mRNA   \n",
       "Gene Accession Number                                  U48730_at   \n",
       "1                                                            185   \n",
       "2                                                            169   \n",
       "3                                                            315   \n",
       "\n",
       "                                                      7120  \\\n",
       "Gene Description       Breast epithelial antigen BA46 mRNA   \n",
       "Gene Accession Number                            U58516_at   \n",
       "1                                                      511   \n",
       "2                                                      837   \n",
       "3                                                     1199   \n",
       "\n",
       "                                                                    7121  \\\n",
       "Gene Description       GB DEF = Calcium/calmodulin-dependent protein ...   \n",
       "Gene Accession Number                                          U73738_at   \n",
       "1                                                                   -125   \n",
       "2                                                                    -36   \n",
       "3                                                                     33   \n",
       "\n",
       "                                        7122  \\\n",
       "Gene Description       TUBULIN ALPHA-4 CHAIN   \n",
       "Gene Accession Number              X06956_at   \n",
       "1                                        389   \n",
       "2                                        442   \n",
       "3                                        168   \n",
       "\n",
       "                                                                    7123  \\\n",
       "Gene Description       CYP4B1 Cytochrome P450; subfamily IVB; polypep...   \n",
       "Gene Accession Number                                          X16699_at   \n",
       "1                                                                    -37   \n",
       "2                                                                    -17   \n",
       "3                                                                     52   \n",
       "\n",
       "                                                                    7124  \\\n",
       "Gene Description       PTGER3 Prostaglandin E receptor 3 (subtype EP3...   \n",
       "Gene Accession Number                                          X83863_at   \n",
       "1                                                                    793   \n",
       "2                                                                    782   \n",
       "3                                                                   1138   \n",
       "\n",
       "                                                                    7125  \\\n",
       "Gene Description       HMG2 High-mobility group (nonhistone chromosom...   \n",
       "Gene Accession Number                                          Z17240_at   \n",
       "1                                                                    329   \n",
       "2                                                                    295   \n",
       "3                                                                    777   \n",
       "\n",
       "                                                                7126  \\\n",
       "Gene Description       RB1 Retinoblastoma 1 (including osteosarcoma)   \n",
       "Gene Accession Number                                    L49218_f_at   \n",
       "1                                                                 36   \n",
       "2                                                                 11   \n",
       "3                                                                 41   \n",
       "\n",
       "                                                                    7127  \\\n",
       "Gene Description       GB DEF = Glycophorin Sta (type A) exons 3 and ...   \n",
       "Gene Accession Number                                        M71243_f_at   \n",
       "1                                                                    191   \n",
       "2                                                                     76   \n",
       "3                                                                    228   \n",
       "\n",
       "                                            7128  \n",
       "Gene Description       GB DEF = mRNA (clone 1A7)  \n",
       "Gene Accession Number                Z78285_f_at  \n",
       "1                                            -37  \n",
       "2                                            -14  \n",
       "3                                            -41  \n",
       "\n",
       "[5 rows x 7129 columns]"
      ]
     },
     "execution_count": 12,
     "metadata": {},
     "output_type": "execute_result"
    }
   ],
   "source": [
    "# Transpose them \n",
    "X_train = X_train_tr.T\n",
    "X_test = X_test_tr.T\n",
    "\n",
    "print(X_train.shape) \n",
    "X_train.head()"
   ]
  },
  {
   "cell_type": "code",
   "execution_count": 13,
   "metadata": {},
   "outputs": [],
   "source": [
    "X_train.columns = X_train.iloc[1]\n",
    "X_train = X_train.drop([\"Gene Description\", \"Gene Accession Number\"]).apply(pd.to_numeric)\n"
   ]
  },
  {
   "cell_type": "code",
   "execution_count": 14,
   "metadata": {},
   "outputs": [
    {
     "data": {
      "text/html": [
       "<div>\n",
       "<style scoped>\n",
       "    .dataframe tbody tr th:only-of-type {\n",
       "        vertical-align: middle;\n",
       "    }\n",
       "\n",
       "    .dataframe tbody tr th {\n",
       "        vertical-align: top;\n",
       "    }\n",
       "\n",
       "    .dataframe thead th {\n",
       "        text-align: right;\n",
       "    }\n",
       "</style>\n",
       "<table border=\"1\" class=\"dataframe\">\n",
       "  <thead>\n",
       "    <tr style=\"text-align: right;\">\n",
       "      <th>Gene Accession Number</th>\n",
       "      <th>AFFX-BioB-5_at</th>\n",
       "      <th>AFFX-BioB-M_at</th>\n",
       "      <th>AFFX-BioB-3_at</th>\n",
       "      <th>AFFX-BioC-5_at</th>\n",
       "      <th>AFFX-BioC-3_at</th>\n",
       "      <th>AFFX-BioDn-5_at</th>\n",
       "      <th>AFFX-BioDn-3_at</th>\n",
       "      <th>AFFX-CreX-5_at</th>\n",
       "      <th>AFFX-CreX-3_at</th>\n",
       "      <th>AFFX-BioB-5_st</th>\n",
       "      <th>...</th>\n",
       "      <th>U48730_at</th>\n",
       "      <th>U58516_at</th>\n",
       "      <th>U73738_at</th>\n",
       "      <th>X06956_at</th>\n",
       "      <th>X16699_at</th>\n",
       "      <th>X83863_at</th>\n",
       "      <th>Z17240_at</th>\n",
       "      <th>L49218_f_at</th>\n",
       "      <th>M71243_f_at</th>\n",
       "      <th>Z78285_f_at</th>\n",
       "    </tr>\n",
       "  </thead>\n",
       "  <tbody>\n",
       "    <tr>\n",
       "      <th>1</th>\n",
       "      <td>-214</td>\n",
       "      <td>-153</td>\n",
       "      <td>-58</td>\n",
       "      <td>88</td>\n",
       "      <td>-295</td>\n",
       "      <td>-558</td>\n",
       "      <td>199</td>\n",
       "      <td>-176</td>\n",
       "      <td>252</td>\n",
       "      <td>206</td>\n",
       "      <td>...</td>\n",
       "      <td>185</td>\n",
       "      <td>511</td>\n",
       "      <td>-125</td>\n",
       "      <td>389</td>\n",
       "      <td>-37</td>\n",
       "      <td>793</td>\n",
       "      <td>329</td>\n",
       "      <td>36</td>\n",
       "      <td>191</td>\n",
       "      <td>-37</td>\n",
       "    </tr>\n",
       "    <tr>\n",
       "      <th>2</th>\n",
       "      <td>-139</td>\n",
       "      <td>-73</td>\n",
       "      <td>-1</td>\n",
       "      <td>283</td>\n",
       "      <td>-264</td>\n",
       "      <td>-400</td>\n",
       "      <td>-330</td>\n",
       "      <td>-168</td>\n",
       "      <td>101</td>\n",
       "      <td>74</td>\n",
       "      <td>...</td>\n",
       "      <td>169</td>\n",
       "      <td>837</td>\n",
       "      <td>-36</td>\n",
       "      <td>442</td>\n",
       "      <td>-17</td>\n",
       "      <td>782</td>\n",
       "      <td>295</td>\n",
       "      <td>11</td>\n",
       "      <td>76</td>\n",
       "      <td>-14</td>\n",
       "    </tr>\n",
       "    <tr>\n",
       "      <th>3</th>\n",
       "      <td>-76</td>\n",
       "      <td>-49</td>\n",
       "      <td>-307</td>\n",
       "      <td>309</td>\n",
       "      <td>-376</td>\n",
       "      <td>-650</td>\n",
       "      <td>33</td>\n",
       "      <td>-367</td>\n",
       "      <td>206</td>\n",
       "      <td>-215</td>\n",
       "      <td>...</td>\n",
       "      <td>315</td>\n",
       "      <td>1199</td>\n",
       "      <td>33</td>\n",
       "      <td>168</td>\n",
       "      <td>52</td>\n",
       "      <td>1138</td>\n",
       "      <td>777</td>\n",
       "      <td>41</td>\n",
       "      <td>228</td>\n",
       "      <td>-41</td>\n",
       "    </tr>\n",
       "    <tr>\n",
       "      <th>4</th>\n",
       "      <td>-135</td>\n",
       "      <td>-114</td>\n",
       "      <td>265</td>\n",
       "      <td>12</td>\n",
       "      <td>-419</td>\n",
       "      <td>-585</td>\n",
       "      <td>158</td>\n",
       "      <td>-253</td>\n",
       "      <td>49</td>\n",
       "      <td>31</td>\n",
       "      <td>...</td>\n",
       "      <td>240</td>\n",
       "      <td>835</td>\n",
       "      <td>218</td>\n",
       "      <td>174</td>\n",
       "      <td>-110</td>\n",
       "      <td>627</td>\n",
       "      <td>170</td>\n",
       "      <td>-50</td>\n",
       "      <td>126</td>\n",
       "      <td>-91</td>\n",
       "    </tr>\n",
       "    <tr>\n",
       "      <th>5</th>\n",
       "      <td>-106</td>\n",
       "      <td>-125</td>\n",
       "      <td>-76</td>\n",
       "      <td>168</td>\n",
       "      <td>-230</td>\n",
       "      <td>-284</td>\n",
       "      <td>4</td>\n",
       "      <td>-122</td>\n",
       "      <td>70</td>\n",
       "      <td>252</td>\n",
       "      <td>...</td>\n",
       "      <td>156</td>\n",
       "      <td>649</td>\n",
       "      <td>57</td>\n",
       "      <td>504</td>\n",
       "      <td>-26</td>\n",
       "      <td>250</td>\n",
       "      <td>314</td>\n",
       "      <td>14</td>\n",
       "      <td>56</td>\n",
       "      <td>-25</td>\n",
       "    </tr>\n",
       "  </tbody>\n",
       "</table>\n",
       "<p>5 rows × 7129 columns</p>\n",
       "</div>"
      ],
      "text/plain": [
       "Gene Accession Number  AFFX-BioB-5_at  AFFX-BioB-M_at  AFFX-BioB-3_at  \\\n",
       "1                                -214            -153             -58   \n",
       "2                                -139             -73              -1   \n",
       "3                                 -76             -49            -307   \n",
       "4                                -135            -114             265   \n",
       "5                                -106            -125             -76   \n",
       "\n",
       "Gene Accession Number  AFFX-BioC-5_at  AFFX-BioC-3_at  AFFX-BioDn-5_at  \\\n",
       "1                                  88            -295             -558   \n",
       "2                                 283            -264             -400   \n",
       "3                                 309            -376             -650   \n",
       "4                                  12            -419             -585   \n",
       "5                                 168            -230             -284   \n",
       "\n",
       "Gene Accession Number  AFFX-BioDn-3_at  AFFX-CreX-5_at  AFFX-CreX-3_at  \\\n",
       "1                                  199            -176             252   \n",
       "2                                 -330            -168             101   \n",
       "3                                   33            -367             206   \n",
       "4                                  158            -253              49   \n",
       "5                                    4            -122              70   \n",
       "\n",
       "Gene Accession Number  AFFX-BioB-5_st  ...  U48730_at  U58516_at  U73738_at  \\\n",
       "1                                 206  ...        185        511       -125   \n",
       "2                                  74  ...        169        837        -36   \n",
       "3                                -215  ...        315       1199         33   \n",
       "4                                  31  ...        240        835        218   \n",
       "5                                 252  ...        156        649         57   \n",
       "\n",
       "Gene Accession Number  X06956_at  X16699_at  X83863_at  Z17240_at  \\\n",
       "1                            389        -37        793        329   \n",
       "2                            442        -17        782        295   \n",
       "3                            168         52       1138        777   \n",
       "4                            174       -110        627        170   \n",
       "5                            504        -26        250        314   \n",
       "\n",
       "Gene Accession Number  L49218_f_at  M71243_f_at  Z78285_f_at  \n",
       "1                               36          191          -37  \n",
       "2                               11           76          -14  \n",
       "3                               41          228          -41  \n",
       "4                              -50          126          -91  \n",
       "5                               14           56          -25  \n",
       "\n",
       "[5 rows x 7129 columns]"
      ]
     },
     "execution_count": 14,
     "metadata": {},
     "output_type": "execute_result"
    }
   ],
   "source": [
    "X_train.head()"
   ]
  },
  {
   "cell_type": "code",
   "execution_count": 15,
   "metadata": {},
   "outputs": [],
   "source": [
    "# Clean up the column names for Testing data\n",
    "X_test.columns = X_test.iloc[1]\n",
    "X_test = X_test.drop([\"Gene Description\", \"Gene Accession Number\"]).apply(pd.to_numeric)"
   ]
  },
  {
   "cell_type": "code",
   "execution_count": 16,
   "metadata": {},
   "outputs": [
    {
     "name": "stdout",
     "output_type": "stream",
     "text": [
      "(34, 7129)\n"
     ]
    }
   ],
   "source": [
    "print(X_test.shape)"
   ]
  },
  {
   "cell_type": "markdown",
   "metadata": {},
   "source": [
    "That looks much better. We have the 38 patients as rows in the training set, and the other 34 as rows in the testing set. Each of those datasets has 7129 gene expression features.\n",
    "\n",
    "But we haven't yet associated the target labels with the right patients. You will recall that all the labels are all stored in a single dataframe. Let's split the data so that the patients and labels match up across the training and testing dataframes."
   ]
  },
  {
   "cell_type": "code",
   "execution_count": 17,
   "metadata": {},
   "outputs": [],
   "source": [
    "# Split into train and test (we first need to reset the index as the indexes of two dataframes need to be the same before you combine them).\n",
    "\n",
    "# Subset the first 38 patient's cancer types\n",
    "X_train = X_train.reset_index(drop=True)\n",
    "y_train = y[y.patient <= 38].reset_index(drop=True)\n",
    "\n",
    "# Subset the rest for testing\n",
    "X_test = X_test.reset_index(drop=True)\n",
    "y_test = y[y.patient > 38].reset_index(drop=True)"
   ]
  },
  {
   "cell_type": "code",
   "execution_count": 18,
   "metadata": {},
   "outputs": [
    {
     "data": {
      "text/html": [
       "<div>\n",
       "<style scoped>\n",
       "    .dataframe tbody tr th:only-of-type {\n",
       "        vertical-align: middle;\n",
       "    }\n",
       "\n",
       "    .dataframe tbody tr th {\n",
       "        vertical-align: top;\n",
       "    }\n",
       "\n",
       "    .dataframe thead th {\n",
       "        text-align: right;\n",
       "    }\n",
       "</style>\n",
       "<table border=\"1\" class=\"dataframe\">\n",
       "  <thead>\n",
       "    <tr style=\"text-align: right;\">\n",
       "      <th>Gene Accession Number</th>\n",
       "      <th>AFFX-BioB-5_at</th>\n",
       "      <th>AFFX-BioB-M_at</th>\n",
       "      <th>AFFX-BioB-3_at</th>\n",
       "      <th>AFFX-BioC-5_at</th>\n",
       "      <th>AFFX-BioC-3_at</th>\n",
       "      <th>AFFX-BioDn-5_at</th>\n",
       "      <th>AFFX-BioDn-3_at</th>\n",
       "      <th>AFFX-CreX-5_at</th>\n",
       "      <th>AFFX-CreX-3_at</th>\n",
       "      <th>AFFX-BioB-5_st</th>\n",
       "      <th>...</th>\n",
       "      <th>U48730_at</th>\n",
       "      <th>U58516_at</th>\n",
       "      <th>U73738_at</th>\n",
       "      <th>X06956_at</th>\n",
       "      <th>X16699_at</th>\n",
       "      <th>X83863_at</th>\n",
       "      <th>Z17240_at</th>\n",
       "      <th>L49218_f_at</th>\n",
       "      <th>M71243_f_at</th>\n",
       "      <th>Z78285_f_at</th>\n",
       "    </tr>\n",
       "  </thead>\n",
       "  <tbody>\n",
       "    <tr>\n",
       "      <th>count</th>\n",
       "      <td>38.000000</td>\n",
       "      <td>38.000000</td>\n",
       "      <td>38.000000</td>\n",
       "      <td>38.000000</td>\n",
       "      <td>38.000000</td>\n",
       "      <td>38.000000</td>\n",
       "      <td>38.000000</td>\n",
       "      <td>38.000000</td>\n",
       "      <td>38.000000</td>\n",
       "      <td>38.000000</td>\n",
       "      <td>...</td>\n",
       "      <td>38.000000</td>\n",
       "      <td>38.000000</td>\n",
       "      <td>38.000000</td>\n",
       "      <td>38.000000</td>\n",
       "      <td>38.000000</td>\n",
       "      <td>38.000000</td>\n",
       "      <td>38.000000</td>\n",
       "      <td>38.000000</td>\n",
       "      <td>38.000000</td>\n",
       "      <td>38.000000</td>\n",
       "    </tr>\n",
       "    <tr>\n",
       "      <th>mean</th>\n",
       "      <td>-120.868421</td>\n",
       "      <td>-150.526316</td>\n",
       "      <td>-17.157895</td>\n",
       "      <td>181.394737</td>\n",
       "      <td>-276.552632</td>\n",
       "      <td>-439.210526</td>\n",
       "      <td>-43.578947</td>\n",
       "      <td>-201.184211</td>\n",
       "      <td>99.052632</td>\n",
       "      <td>112.131579</td>\n",
       "      <td>...</td>\n",
       "      <td>178.763158</td>\n",
       "      <td>750.842105</td>\n",
       "      <td>8.815789</td>\n",
       "      <td>399.131579</td>\n",
       "      <td>-20.052632</td>\n",
       "      <td>869.052632</td>\n",
       "      <td>335.842105</td>\n",
       "      <td>19.210526</td>\n",
       "      <td>504.394737</td>\n",
       "      <td>-29.210526</td>\n",
       "    </tr>\n",
       "    <tr>\n",
       "      <th>std</th>\n",
       "      <td>109.555656</td>\n",
       "      <td>75.734507</td>\n",
       "      <td>117.686144</td>\n",
       "      <td>117.468004</td>\n",
       "      <td>111.004431</td>\n",
       "      <td>135.458412</td>\n",
       "      <td>219.482393</td>\n",
       "      <td>90.838989</td>\n",
       "      <td>83.178397</td>\n",
       "      <td>211.815597</td>\n",
       "      <td>...</td>\n",
       "      <td>84.826830</td>\n",
       "      <td>298.008392</td>\n",
       "      <td>77.108507</td>\n",
       "      <td>469.579868</td>\n",
       "      <td>42.346031</td>\n",
       "      <td>482.366461</td>\n",
       "      <td>209.826766</td>\n",
       "      <td>31.158841</td>\n",
       "      <td>728.744405</td>\n",
       "      <td>30.851132</td>\n",
       "    </tr>\n",
       "    <tr>\n",
       "      <th>min</th>\n",
       "      <td>-476.000000</td>\n",
       "      <td>-327.000000</td>\n",
       "      <td>-307.000000</td>\n",
       "      <td>-36.000000</td>\n",
       "      <td>-541.000000</td>\n",
       "      <td>-790.000000</td>\n",
       "      <td>-479.000000</td>\n",
       "      <td>-463.000000</td>\n",
       "      <td>-82.000000</td>\n",
       "      <td>-215.000000</td>\n",
       "      <td>...</td>\n",
       "      <td>30.000000</td>\n",
       "      <td>224.000000</td>\n",
       "      <td>-178.000000</td>\n",
       "      <td>36.000000</td>\n",
       "      <td>-112.000000</td>\n",
       "      <td>195.000000</td>\n",
       "      <td>41.000000</td>\n",
       "      <td>-50.000000</td>\n",
       "      <td>-2.000000</td>\n",
       "      <td>-94.000000</td>\n",
       "    </tr>\n",
       "    <tr>\n",
       "      <th>25%</th>\n",
       "      <td>-138.750000</td>\n",
       "      <td>-205.000000</td>\n",
       "      <td>-83.250000</td>\n",
       "      <td>81.250000</td>\n",
       "      <td>-374.250000</td>\n",
       "      <td>-547.000000</td>\n",
       "      <td>-169.000000</td>\n",
       "      <td>-239.250000</td>\n",
       "      <td>36.000000</td>\n",
       "      <td>-47.000000</td>\n",
       "      <td>...</td>\n",
       "      <td>120.000000</td>\n",
       "      <td>575.500000</td>\n",
       "      <td>-42.750000</td>\n",
       "      <td>174.500000</td>\n",
       "      <td>-48.000000</td>\n",
       "      <td>595.250000</td>\n",
       "      <td>232.750000</td>\n",
       "      <td>8.000000</td>\n",
       "      <td>136.000000</td>\n",
       "      <td>-42.750000</td>\n",
       "    </tr>\n",
       "    <tr>\n",
       "      <th>50%</th>\n",
       "      <td>-106.500000</td>\n",
       "      <td>-141.500000</td>\n",
       "      <td>-43.500000</td>\n",
       "      <td>200.000000</td>\n",
       "      <td>-263.000000</td>\n",
       "      <td>-426.500000</td>\n",
       "      <td>-33.500000</td>\n",
       "      <td>-185.500000</td>\n",
       "      <td>99.500000</td>\n",
       "      <td>70.500000</td>\n",
       "      <td>...</td>\n",
       "      <td>174.500000</td>\n",
       "      <td>700.000000</td>\n",
       "      <td>10.500000</td>\n",
       "      <td>266.000000</td>\n",
       "      <td>-18.000000</td>\n",
       "      <td>744.500000</td>\n",
       "      <td>308.500000</td>\n",
       "      <td>20.000000</td>\n",
       "      <td>243.500000</td>\n",
       "      <td>-26.000000</td>\n",
       "    </tr>\n",
       "    <tr>\n",
       "      <th>75%</th>\n",
       "      <td>-68.250000</td>\n",
       "      <td>-94.750000</td>\n",
       "      <td>47.250000</td>\n",
       "      <td>279.250000</td>\n",
       "      <td>-188.750000</td>\n",
       "      <td>-344.750000</td>\n",
       "      <td>79.000000</td>\n",
       "      <td>-144.750000</td>\n",
       "      <td>152.250000</td>\n",
       "      <td>242.750000</td>\n",
       "      <td>...</td>\n",
       "      <td>231.750000</td>\n",
       "      <td>969.500000</td>\n",
       "      <td>57.000000</td>\n",
       "      <td>451.750000</td>\n",
       "      <td>9.250000</td>\n",
       "      <td>1112.000000</td>\n",
       "      <td>389.500000</td>\n",
       "      <td>30.250000</td>\n",
       "      <td>487.250000</td>\n",
       "      <td>-11.500000</td>\n",
       "    </tr>\n",
       "    <tr>\n",
       "      <th>max</th>\n",
       "      <td>17.000000</td>\n",
       "      <td>-20.000000</td>\n",
       "      <td>265.000000</td>\n",
       "      <td>392.000000</td>\n",
       "      <td>-51.000000</td>\n",
       "      <td>-155.000000</td>\n",
       "      <td>419.000000</td>\n",
       "      <td>-24.000000</td>\n",
       "      <td>283.000000</td>\n",
       "      <td>561.000000</td>\n",
       "      <td>...</td>\n",
       "      <td>356.000000</td>\n",
       "      <td>1653.000000</td>\n",
       "      <td>218.000000</td>\n",
       "      <td>2527.000000</td>\n",
       "      <td>52.000000</td>\n",
       "      <td>2315.000000</td>\n",
       "      <td>1109.000000</td>\n",
       "      <td>115.000000</td>\n",
       "      <td>3193.000000</td>\n",
       "      <td>36.000000</td>\n",
       "    </tr>\n",
       "  </tbody>\n",
       "</table>\n",
       "<p>8 rows × 7129 columns</p>\n",
       "</div>"
      ],
      "text/plain": [
       "Gene Accession Number  AFFX-BioB-5_at  AFFX-BioB-M_at  AFFX-BioB-3_at  \\\n",
       "count                       38.000000       38.000000       38.000000   \n",
       "mean                      -120.868421     -150.526316      -17.157895   \n",
       "std                        109.555656       75.734507      117.686144   \n",
       "min                       -476.000000     -327.000000     -307.000000   \n",
       "25%                       -138.750000     -205.000000      -83.250000   \n",
       "50%                       -106.500000     -141.500000      -43.500000   \n",
       "75%                        -68.250000      -94.750000       47.250000   \n",
       "max                         17.000000      -20.000000      265.000000   \n",
       "\n",
       "Gene Accession Number  AFFX-BioC-5_at  AFFX-BioC-3_at  AFFX-BioDn-5_at  \\\n",
       "count                       38.000000       38.000000        38.000000   \n",
       "mean                       181.394737     -276.552632      -439.210526   \n",
       "std                        117.468004      111.004431       135.458412   \n",
       "min                        -36.000000     -541.000000      -790.000000   \n",
       "25%                         81.250000     -374.250000      -547.000000   \n",
       "50%                        200.000000     -263.000000      -426.500000   \n",
       "75%                        279.250000     -188.750000      -344.750000   \n",
       "max                        392.000000      -51.000000      -155.000000   \n",
       "\n",
       "Gene Accession Number  AFFX-BioDn-3_at  AFFX-CreX-5_at  AFFX-CreX-3_at  \\\n",
       "count                        38.000000       38.000000       38.000000   \n",
       "mean                        -43.578947     -201.184211       99.052632   \n",
       "std                         219.482393       90.838989       83.178397   \n",
       "min                        -479.000000     -463.000000      -82.000000   \n",
       "25%                        -169.000000     -239.250000       36.000000   \n",
       "50%                         -33.500000     -185.500000       99.500000   \n",
       "75%                          79.000000     -144.750000      152.250000   \n",
       "max                         419.000000      -24.000000      283.000000   \n",
       "\n",
       "Gene Accession Number  AFFX-BioB-5_st  ...   U48730_at    U58516_at  \\\n",
       "count                       38.000000  ...   38.000000    38.000000   \n",
       "mean                       112.131579  ...  178.763158   750.842105   \n",
       "std                        211.815597  ...   84.826830   298.008392   \n",
       "min                       -215.000000  ...   30.000000   224.000000   \n",
       "25%                        -47.000000  ...  120.000000   575.500000   \n",
       "50%                         70.500000  ...  174.500000   700.000000   \n",
       "75%                        242.750000  ...  231.750000   969.500000   \n",
       "max                        561.000000  ...  356.000000  1653.000000   \n",
       "\n",
       "Gene Accession Number   U73738_at    X06956_at   X16699_at    X83863_at  \\\n",
       "count                   38.000000    38.000000   38.000000    38.000000   \n",
       "mean                     8.815789   399.131579  -20.052632   869.052632   \n",
       "std                     77.108507   469.579868   42.346031   482.366461   \n",
       "min                   -178.000000    36.000000 -112.000000   195.000000   \n",
       "25%                    -42.750000   174.500000  -48.000000   595.250000   \n",
       "50%                     10.500000   266.000000  -18.000000   744.500000   \n",
       "75%                     57.000000   451.750000    9.250000  1112.000000   \n",
       "max                    218.000000  2527.000000   52.000000  2315.000000   \n",
       "\n",
       "Gene Accession Number    Z17240_at  L49218_f_at  M71243_f_at  Z78285_f_at  \n",
       "count                    38.000000    38.000000    38.000000    38.000000  \n",
       "mean                    335.842105    19.210526   504.394737   -29.210526  \n",
       "std                     209.826766    31.158841   728.744405    30.851132  \n",
       "min                      41.000000   -50.000000    -2.000000   -94.000000  \n",
       "25%                     232.750000     8.000000   136.000000   -42.750000  \n",
       "50%                     308.500000    20.000000   243.500000   -26.000000  \n",
       "75%                     389.500000    30.250000   487.250000   -11.500000  \n",
       "max                    1109.000000   115.000000  3193.000000    36.000000  \n",
       "\n",
       "[8 rows x 7129 columns]"
      ]
     },
     "execution_count": 18,
     "metadata": {},
     "output_type": "execute_result"
    }
   ],
   "source": [
    "X_train.describe()"
   ]
  },
  {
   "cell_type": "markdown",
   "metadata": {},
   "source": [
    "To center the data (make it have zero mean and unit standard error), you subtract the mean and then divide the result by the standard deviation.\n",
    "\n",
    "𝑥′=𝑥−𝜇 / 𝜎\n",
    "\n",
    "You do that on the training set of data. But then you have to apply the same transformation to your testing set (e.g. in cross-validation), or to newly obtained examples before forecast. But you have to use the same two parameters 𝜇 and 𝜎 (values) that you used for centering the training set.\n",
    "\n",
    "Hence, every sklearn's transform's fit() just calculates the parameters (e.g. 𝜇 and 𝜎 in case of StandardScaler) and saves them as an internal objects state. Afterwards, you can call its transform() method to apply the transformation to a particular set of examples.\n",
    "\n",
    "fit_transform() joins these two steps and is used for the initial fitting of parameters on the training set 𝑥, but it also returns a transformed 𝑥′. Internally, it just calls first fit() and then transform() on the same data."
   ]
  },
  {
   "cell_type": "code",
   "execution_count": 19,
   "metadata": {},
   "outputs": [],
   "source": [
    "# Convert from integer to float\n",
    "X_train_fl = X_train.astype(float, 64)\n",
    "X_test_fl = X_test.astype(float, 64)\n",
    "\n",
    "# Apply the same scaling to both datasets\n",
    "scaler = StandardScaler()\n",
    "X_train_scl = scaler.fit_transform(X_train_fl)\n",
    "X_test_scl = scaler.transform(X_test_fl) # note that we transform rather than fit_transform"
   ]
  },
  {
   "cell_type": "markdown",
   "metadata": {},
   "source": [
    "With 7129 features, it's also worth considering whether we might be able to reduce the dimensionality of the dataset. Once very common approach to this is principal components analysis (PCA). Let's start by leaving the number of desired components as an open question:"
   ]
  },
  {
   "cell_type": "code",
   "execution_count": 20,
   "metadata": {},
   "outputs": [
    {
     "data": {
      "text/plain": [
       "array([[-4.12032149e+03,  8.43574289e+03, -1.39441668e+04, ...,\n",
       "         2.51106855e+03,  3.92187680e+03,  1.26007772e-11],\n",
       "       [ 1.86283598e+04,  1.44078238e+04,  1.66177453e+04, ...,\n",
       "        -2.30960132e+02, -1.04099055e+03,  1.26007772e-11],\n",
       "       [-1.58238732e+04,  1.40484268e+04,  4.73320627e+04, ...,\n",
       "         5.48675197e+02, -2.26227734e+03,  1.26007772e-11],\n",
       "       ...,\n",
       "       [ 6.50848905e+04, -5.49595793e+04,  1.67854688e+04, ...,\n",
       "         1.18708820e+01, -1.47894896e+03,  1.26007772e-11],\n",
       "       [ 4.97670530e+04, -3.81956823e+04,  2.93511865e+03, ...,\n",
       "         2.66462156e+03,  7.99461277e+02,  1.26007772e-11],\n",
       "       [ 1.08241948e+04, -1.68550421e+04, -9.46017931e+02, ...,\n",
       "        -2.04773331e+03, -1.96917341e+03,  1.26007772e-11]])"
      ]
     },
     "execution_count": 20,
     "metadata": {},
     "output_type": "execute_result"
    }
   ],
   "source": [
    "pca = PCA()\n",
    "pca.fit_transform(X_train)"
   ]
  },
  {
   "cell_type": "code",
   "execution_count": 21,
   "metadata": {},
   "outputs": [
    {
     "name": "stdout",
     "output_type": "stream",
     "text": [
      "22 features explain around 90% of the variance. From 7129 features to 22, not too bad.\n"
     ]
    }
   ],
   "source": [
    "total = sum(pca.explained_variance_)\n",
    "k = 0\n",
    "current_variance = 0\n",
    "while current_variance/total < 0.90:\n",
    "    current_variance += pca.explained_variance_[k]\n",
    "    k = k + 1\n",
    "    \n",
    "print(k, \" features explain around 90% of the variance. From 7129 features to \", k, \", not too bad.\", sep='')"
   ]
  },
  {
   "cell_type": "code",
   "execution_count": 22,
   "metadata": {},
   "outputs": [
    {
     "data": {
      "image/png": "[encoded data removed]",
      "text/plain": [
       "<Figure size 432x288 with 1 Axes>"
      ]
     },
     "metadata": {
      "needs_background": "light"
     },
     "output_type": "display_data"
    }
   ],
   "source": [
    "pca = PCA(n_components=k)\n",
    "X_train.pca = pca.fit(X_train)\n",
    "X_train_pca = pca.transform(X_train)\n",
    "X_test_pca = pca.transform(X_test)\n",
    "\n",
    "var_exp = pca.explained_variance_ratio_.cumsum()\n",
    "var_exp = var_exp*100\n",
    "plt.bar(range(k), var_exp);"
   ]
  },
  {
   "cell_type": "markdown",
   "metadata": {},
   "source": [
    "We can't plot something in 22 dimensions, so let's just see what the PCA looks like when we just pick the top three compoments. (Here we are using code taken from this kernel.)\n",
    "\n",
    "https://www.kaggle.com/kanav0183/pca-analysis-for-geneclassification"
   ]
  },
  {
   "cell_type": "code",
   "execution_count": 23,
   "metadata": {},
   "outputs": [
    {
     "data": {
      "text/plain": [
       "[]"
      ]
     },
     "execution_count": 23,
     "metadata": {},
     "output_type": "execute_result"
    },
    {
     "data": {
      "image/png": "[encoded data removed]",
      "text/plain": [
       "<Figure size 432x288 with 1 Axes>"
      ]
     },
     "metadata": {
      "needs_background": "light"
     },
     "output_type": "display_data"
    }
   ],
   "source": [
    "pca3 = PCA(n_components=3).fit(X_train)\n",
    "X_train_reduced = pca3.transform(X_train)\n",
    "\n",
    "plt.clf()\n",
    "fig = plt.figure(1, figsize=(10,6 ))\n",
    "ax = Axes3D(fig, elev=-150, azim=110,)\n",
    "ax.scatter(X_train_reduced[:, 0], X_train_reduced[:, 1], X_train_reduced[:, 2], c = y_train.iloc[:,1], cmap = plt.cm.Paired, linewidths=10)\n",
    "ax.set_title(\"First three PCA directions\")\n",
    "ax.set_xlabel(\"1st eigenvector\")\n",
    "ax.w_xaxis.set_ticklabels([])\n",
    "ax.set_ylabel(\"2nd eigenvector\")\n",
    "ax.w_yaxis.set_ticklabels([])\n",
    "ax.set_zlabel(\"3rd eigenvector\")\n",
    "ax.w_zaxis.set_ticklabels([])"
   ]
  },
  {
   "cell_type": "code",
   "execution_count": 24,
   "metadata": {},
   "outputs": [
    {
     "data": {
      "text/plain": [
       "Text(0.5, 1.0, '2D Transformation of the Above Graph ')"
      ]
     },
     "execution_count": 24,
     "metadata": {},
     "output_type": "execute_result"
    },
    {
     "data": {
      "image/png": "[encoded data removed]",
      "text/plain": [
       "<Figure size 720x432 with 1 Axes>"
      ]
     },
     "metadata": {
      "needs_background": "light"
     },
     "output_type": "display_data"
    }
   ],
   "source": [
    "fig = plt.figure(1, figsize = (10, 6))\n",
    "plt.scatter(X_train_reduced[:, 0],  X_train_reduced[:, 1], c = y_train.iloc[:,1], cmap = plt.cm.Paired, linewidths=10)\n",
    "plt.annotate('Note the Brown Cluster', xy = (30000,-2000))\n",
    "plt.title(\"2D Transformation of the Above Graph \")"
   ]
  },
  {
   "cell_type": "markdown",
   "metadata": {},
   "source": [
    "## Model Building:\n",
    "### Baseline:\n",
    "\n",
    "Establishing naive baseline:\n",
    "Let's start by establishing a naive baseline. This doesn't require a model, we are just taking the proportion of tests that belong to the majority class as a baseline. In other words, let's see what happens if we were to predict that every patient belongs to the \"ALL\" class.\n",
    "\n"
   ]
  },
  {
   "cell_type": "code",
   "execution_count": 25,
   "metadata": {},
   "outputs": [
    {
     "name": "stdout",
     "output_type": "stream",
     "text": [
      "Simply predicting everything as acute lymphoblastic      leukemia (ALL) results in an accuracy of 0.588.\n"
     ]
    }
   ],
   "source": [
    "print(\"Simply predicting everything as acute lymphoblastic\\\n",
    "      leukemia (ALL) results in an accuracy of \",\n",
    "      round(1 - np.mean(y_test.iloc[:,1]), 3), \".\", sep = '')\n",
    "\n"
   ]
  },
  {
   "cell_type": "code",
   "execution_count": 26,
   "metadata": {},
   "outputs": [
    {
     "data": {
      "text/plain": [
       "0.5882352941176471"
      ]
     },
     "execution_count": 26,
     "metadata": {},
     "output_type": "execute_result"
    }
   ],
   "source": [
    "1 - np.mean(y_test.iloc[:,1])"
   ]
  },
  {
   "cell_type": "markdown",
   "metadata": {},
   "source": [
    "### K means clustering:\n"
   ]
  },
  {
   "cell_type": "code",
   "execution_count": 27,
   "metadata": {},
   "outputs": [
    {
     "name": "stdout",
     "output_type": "stream",
     "text": [
      "K-means accuracy: 0.294\n"
     ]
    }
   ],
   "source": [
    "kmeans = KMeans(n_clusters=2, random_state=0).fit(X_train_scl)\n",
    "km_pred = kmeans.predict(X_test_scl)\n",
    "\n",
    "print('K-means accuracy:', round(accuracy_score(y_test.iloc[:,1], km_pred), 3))"
   ]
  },
  {
   "cell_type": "code",
   "execution_count": 28,
   "metadata": {},
   "outputs": [
    {
     "data": {
      "image/png": "[encoded data removed]",
      "text/plain": [
       "<Figure size 432x288 with 2 Axes>"
      ]
     },
     "metadata": {
      "needs_background": "light"
     },
     "output_type": "display_data"
    }
   ],
   "source": [
    "cm_km = confusion_matrix(y_test.iloc[:,1], km_pred)\n",
    "\n",
    "ax = plt.subplot()\n",
    "sns.heatmap(cm_km, annot=True, ax = ax, fmt='g', cmap='Greens') \n",
    "\n",
    "# labels, title and ticks\n",
    "ax.set_xlabel('Predicted labels')\n",
    "ax.set_ylabel('True labels') \n",
    "ax.set_title('K-means Confusion Matrix') \n",
    "ax.xaxis.set_ticklabels(labels) \n",
    "ax.yaxis.set_ticklabels(labels, rotation=360);"
   ]
  },
  {
   "cell_type": "markdown",
   "metadata": {},
   "source": [
    "This K-means approach is better than the baseline, but we should be able to do better with some kind of supervised learning model."
   ]
  },
  {
   "cell_type": "code",
   "execution_count": 29,
   "metadata": {},
   "outputs": [
    {
     "name": "stdout",
     "output_type": "stream",
     "text": [
      "Naive Bayes accuracy: 0.912\n"
     ]
    }
   ],
   "source": [
    "### Naive Bayes approach as a supervised model:\n",
    "# Create a Gaussian classifier\n",
    "nb_model = GaussianNB()\n",
    "\n",
    "nb_model.fit(X_train, y_train.iloc[:,1])\n",
    "\n",
    "nb_pred = nb_model.predict(X_test)\n",
    "\n",
    "print('Naive Bayes accuracy:', round(accuracy_score(y_test.iloc[:,1], nb_pred), 3))"
   ]
  },
  {
   "cell_type": "code",
   "execution_count": 30,
   "metadata": {},
   "outputs": [
    {
     "data": {
      "image/png": "[encoded data removed]",
      "text/plain": [
       "<Figure size 432x288 with 2 Axes>"
      ]
     },
     "metadata": {
      "needs_background": "light"
     },
     "output_type": "display_data"
    }
   ],
   "source": [
    "cm_nb =  confusion_matrix(y_test.iloc[:,1], nb_pred)\n",
    "\n",
    "ax = plt.subplot()\n",
    "sns.heatmap(cm_nb, annot=True, ax = ax, fmt='g', cmap='Greens') \n",
    "\n",
    "# labels, title and ticks\n",
    "ax.set_xlabel('Predicted labels')\n",
    "ax.set_ylabel('True labels') \n",
    "ax.set_title('Naive Bayes Confusion Matrix') \n",
    "ax.xaxis.set_ticklabels(labels) \n",
    "ax.yaxis.set_ticklabels(labels, rotation=360);"
   ]
  },
  {
   "cell_type": "markdown",
   "metadata": {},
   "source": [
    "The naive bayes model is pretty good, just three incorrect classifications.\n",
    "\n"
   ]
  },
  {
   "cell_type": "markdown",
   "metadata": {},
   "source": [
    "### Logistic regression:\n",
    "Another very standard approach is logistic regression. Here we will be using grid search cross-validation tuning to try and determine the best hyperparameters. We don't need to scale the data for logistic regression, nor are we using the PCA version of the dataset."
   ]
  },
  {
   "cell_type": "code",
   "execution_count": 31,
   "metadata": {},
   "outputs": [
    {
     "name": "stdout",
     "output_type": "stream",
     "text": [
      "Best Parameters:\n",
      " {'C': 1, 'penalty': 'l1'}\n"
     ]
    }
   ],
   "source": [
    "log_grid = {'C': [1e-03, 1e-2, 1e-1, 1, 10], \n",
    "                 'penalty': ['l1', 'l2']}\n",
    "\n",
    "log_estimator = LogisticRegression(solver='liblinear')\n",
    "\n",
    "log_model = GridSearchCV(estimator=log_estimator, \n",
    "                  param_grid=log_grid, \n",
    "                  cv=3,\n",
    "                  scoring='accuracy')\n",
    "\n",
    "log_model.fit(X_train, y_train.iloc[:,1])\n",
    "print(\"Best Parameters:\\n\", log_model.best_params_)\n"
   ]
  },
  {
   "cell_type": "code",
   "execution_count": 32,
   "metadata": {},
   "outputs": [
    {
     "name": "stdout",
     "output_type": "stream",
     "text": [
      "Logistic Regression accuracy: 1.0\n"
     ]
    }
   ],
   "source": [
    "# Select best log model\n",
    "best_log = log_model.best_estimator_\n",
    "\n",
    "# Make predictions using the optimised parameters\n",
    "log_pred = best_log.predict(X_test)\n",
    "\n",
    "print('Logistic Regression accuracy:', round(accuracy_score(y_test.iloc[:,1], log_pred), 3))"
   ]
  },
  {
   "cell_type": "code",
   "execution_count": 33,
   "metadata": {},
   "outputs": [
    {
     "data": {
      "image/png": "[encoded data removed]",
      "text/plain": [
       "<Figure size 432x288 with 2 Axes>"
      ]
     },
     "metadata": {
      "needs_background": "light"
     },
     "output_type": "display_data"
    }
   ],
   "source": [
    "cm_log =  confusion_matrix(y_test.iloc[:,1], log_pred)\n",
    "\n",
    "ax = plt.subplot()\n",
    "sns.heatmap(cm_log, annot=True, ax = ax, fmt='g', cmap='Greens') \n",
    "\n",
    "# labels, title and ticks\n",
    "ax.set_xlabel('Predicted labels')\n",
    "ax.set_ylabel('True labels') \n",
    "ax.set_title('Logistic Regression Confusion Matrix') \n",
    "ax.xaxis.set_ticklabels(labels) \n",
    "ax.yaxis.set_ticklabels(labels, rotation=360);"
   ]
  },
  {
   "cell_type": "markdown",
   "metadata": {},
   "source": [
    "This logistic regression model manages perfect classification."
   ]
  },
  {
   "cell_type": "markdown",
   "metadata": {},
   "source": [
    "For supervised learning, you have the data labeled - \n",
    "the question is predicting the instances once we learned on this model."
   ]
  },
  {
   "cell_type": "markdown",
   "metadata": {},
   "source": [
    "### Support Vector Machine:\n",
    "For the SVM, so we using the PCA version of the dataset. Again we use grid search cross-validation to tune the model.\n"
   ]
  },
  {
   "cell_type": "code",
   "execution_count": 34,
   "metadata": {},
   "outputs": [
    {
     "name": "stdout",
     "output_type": "stream",
     "text": [
      "Best Parameters:\n",
      " {'C': 0.1, 'decision_function_shape': 'ovo', 'gamma': 1, 'kernel': 'linear'}\n"
     ]
    }
   ],
   "source": [
    "# Parameter grid\n",
    "svm_param_grid = {'C': [0.1, 1, 10, 100], 'gamma': [1, 0.1, 0.01, 0.001, 0.00001, 10], \"kernel\": [\"linear\", \"rbf\", \"poly\"], \"decision_function_shape\" : [\"ovo\", \"ovr\"]} \n",
    "\n",
    "# Create SVM grid search classifier\n",
    "svm_grid = GridSearchCV(SVC(), svm_param_grid, cv=3)\n",
    "\n",
    "# Train the classifier\n",
    "svm_grid.fit(X_train_pca, y_train.iloc[:,1])\n",
    "\n",
    "print(\"Best Parameters:\\n\", svm_grid.best_params_)\n"
   ]
  },
  {
   "cell_type": "code",
   "execution_count": 35,
   "metadata": {},
   "outputs": [
    {
     "name": "stdout",
     "output_type": "stream",
     "text": [
      "SVM accuracy: 0.941\n"
     ]
    }
   ],
   "source": [
    "# Select best svc\n",
    "best_svc = svm_grid.best_estimator_\n",
    "\n",
    "# Make predictions using the optimised parameters\n",
    "svm_pred = best_svc.predict(X_test_pca)\n",
    "\n",
    "print('SVM accuracy:', round(accuracy_score(y_test.iloc[:,1], svm_pred), 3))"
   ]
  },
  {
   "cell_type": "code",
   "execution_count": 36,
   "metadata": {},
   "outputs": [
    {
     "data": {
      "image/png": "[encoded data removed]",
      "text/plain": [
       "<Figure size 432x288 with 2 Axes>"
      ]
     },
     "metadata": {
      "needs_background": "light"
     },
     "output_type": "display_data"
    }
   ],
   "source": [
    "cm_svm =  confusion_matrix(y_test.iloc[:,1], svm_pred)\n",
    "\n",
    "ax = plt.subplot()\n",
    "sns.heatmap(cm_svm, annot=True, ax = ax, fmt='g', cmap='Greens') \n",
    "\n",
    "# Labels, title and ticks\n",
    "ax.set_xlabel('Predicted labels')\n",
    "ax.set_ylabel('True labels') \n",
    "ax.set_title('SVM Confusion Matrix') \n",
    "ax.xaxis.set_ticklabels(labels) \n",
    "ax.yaxis.set_ticklabels(labels, rotation=360);"
   ]
  },
  {
   "cell_type": "markdown",
   "metadata": {},
   "source": [
    "## Random Forest \n",
    "Tree based approach \n",
    "Dont need the scaled dataset - grid search for tuning the hyperparameters:\n",
    "    "
   ]
  },
  {
   "cell_type": "code",
   "execution_count": 37,
   "metadata": {},
   "outputs": [
    {
     "data": {
      "text/plain": [
       "RandomForestClassifier(bootstrap=True, ccp_alpha=0.0, class_weight=None,\n",
       "                       criterion='gini', max_depth=None, max_features='sqrt',\n",
       "                       max_leaf_nodes=None, max_samples=None,\n",
       "                       min_impurity_decrease=0.0, min_impurity_split=None,\n",
       "                       min_samples_leaf=1, min_samples_split=2,\n",
       "                       min_weight_fraction_leaf=0.0, n_estimators=100,\n",
       "                       n_jobs=None, oob_score=False, random_state=None,\n",
       "                       verbose=0, warm_start=False)"
      ]
     },
     "execution_count": 37,
     "metadata": {},
     "output_type": "execute_result"
    }
   ],
   "source": [
    "model = RandomForestClassifier(n_estimators = 100, bootstrap = True, \n",
    "                              max_features = 'sqrt')\n",
    "\n",
    "# Fit on training data \n",
    "model.fit(X_train_fl, y_train.iloc[:, 1])"
   ]
  },
  {
   "cell_type": "code",
   "execution_count": 38,
   "metadata": {},
   "outputs": [
    {
     "ename": "AttributeError",
     "evalue": "'RandomForestClassifier' object has no attribute 'best_params_'",
     "output_type": "error",
     "traceback": [
      "\u001b[0;31m---------------------------------------------------------------------------\u001b[0m",
      "\u001b[0;31mAttributeError\u001b[0m                            Traceback (most recent call last)",
      "\u001b[0;32m<ipython-input-38-13ca8fce328e>\u001b[0m in \u001b[0;36m<module>\u001b[0;34m\u001b[0m\n\u001b[1;32m      1\u001b[0m \u001b[0;31m# Random forest does not have best params as an option\u001b[0m\u001b[0;34m\u001b[0m\u001b[0;34m\u001b[0m\u001b[0;34m\u001b[0m\u001b[0m\n\u001b[0;32m----> 2\u001b[0;31m \u001b[0mprint\u001b[0m\u001b[0;34m(\u001b[0m\u001b[0;34m\"Best Parameters for Random Forest:\\n\"\u001b[0m\u001b[0;34m,\u001b[0m \u001b[0mmodel\u001b[0m\u001b[0;34m.\u001b[0m\u001b[0mbest_params_\u001b[0m\u001b[0;34m)\u001b[0m\u001b[0;34m\u001b[0m\u001b[0;34m\u001b[0m\u001b[0m\n\u001b[0m",
      "\u001b[0;31mAttributeError\u001b[0m: 'RandomForestClassifier' object has no attribute 'best_params_'"
     ]
    }
   ],
   "source": [
    "# Random forest does not have best params as an option \n",
    "print(\"Best Parameters for Random Forest:\\n\", model.best_params_)\n"
   ]
  },
  {
   "cell_type": "code",
   "execution_count": 39,
   "metadata": {},
   "outputs": [
    {
     "data": {
      "text/plain": [
       "array([0, 0, 0, 0, 0, 0, 0, 0, 0, 0, 0, 1, 1, 1, 1, 0, 0, 0, 0, 1, 0, 0,\n",
       "       0, 0, 1, 1, 0, 0, 0, 0, 0, 0, 0, 0])"
      ]
     },
     "execution_count": 39,
     "metadata": {},
     "output_type": "execute_result"
    }
   ],
   "source": [
    "# test on the test data \n",
    "# Make predictions using the optimised parameters\n",
    "forest_pred = model.predict(X_test_fl)\n",
    "forest_pred\n"
   ]
  },
  {
   "cell_type": "code",
   "execution_count": 40,
   "metadata": {},
   "outputs": [
    {
     "name": "stdout",
     "output_type": "stream",
     "text": [
      "Random Forest accuracy: 0.794\n"
     ]
    }
   ],
   "source": [
    "print('Random Forest accuracy:', round(accuracy_score(y_test.iloc[:,1], forest_pred), 3))\n",
    "\n"
   ]
  },
  {
   "cell_type": "code",
   "execution_count": 41,
   "metadata": {},
   "outputs": [
    {
     "data": {
      "text/plain": [
       "array([[20,  0],\n",
       "       [ 7,  7]])"
      ]
     },
     "execution_count": 41,
     "metadata": {},
     "output_type": "execute_result"
    }
   ],
   "source": [
    "cm_rf = confusion_matrix(y_test.iloc[:,1], forest_pred)\n",
    "cm_rf"
   ]
  },
  {
   "cell_type": "code",
   "execution_count": 42,
   "metadata": {},
   "outputs": [
    {
     "data": {
      "image/png": "[encoded data removed]",
      "text/plain": [
       "<Figure size 432x288 with 2 Axes>"
      ]
     },
     "metadata": {
      "needs_background": "light"
     },
     "output_type": "display_data"
    }
   ],
   "source": [
    "ax = plt.subplot()\n",
    "sns.heatmap(cm_rf, annot=True, ax = ax, fmt='g', cmap='Greens') \n",
    "\n",
    "# labels, title and ticks\n",
    "ax.set_xlabel('Predicted labels')\n",
    "ax.set_ylabel('True labels') \n",
    "ax.set_title('Random Forest Confusion Matrix') \n",
    "ax.xaxis.set_ticklabels(labels) \n",
    "ax.yaxis.set_ticklabels(labels, rotation=360);"
   ]
  },
  {
   "cell_type": "markdown",
   "metadata": {},
   "source": [
    "regression algorithms attempt to estimate the mapping function (f) from the input variables (x) to numerical or continuous output variables (y).Support Vector Regression (SVR), and regression trees are commonly used\n",
    "\n",
    "Classification algorithms attempt to estimate the mapping function (f) from the input variables (x) to discrete or categorical output variables (y)."
   ]
  },
  {
   "cell_type": "markdown",
   "metadata": {},
   "source": [
    "Golub data is an example of classification problem because of prediction of the state - AML vs ALL. Examples of the common classification algorithms include logistic regression, Naïve Bayes, decision trees, and K Nearest Neighbors."
   ]
  },
  {
   "cell_type": "markdown",
   "metadata": {},
   "source": [
    "## XG Boost\n"
   ]
  },
  {
   "cell_type": "code",
   "execution_count": 43,
   "metadata": {},
   "outputs": [
    {
     "data": {
      "text/plain": [
       "XGBClassifier(base_score=0.5, booster=None, colsample_bylevel=1,\n",
       "              colsample_bynode=1, colsample_bytree=1, gamma=0, gpu_id=-1,\n",
       "              importance_type='gain', interaction_constraints=None,\n",
       "              learning_rate=0.300000012, max_delta_step=0, max_depth=6,\n",
       "              min_child_weight=1, missing=nan, monotone_constraints=None,\n",
       "              n_estimators=100, n_jobs=0, num_parallel_tree=1,\n",
       "              objective='binary:logistic', random_state=0, reg_alpha=0,\n",
       "              reg_lambda=1, scale_pos_weight=1, subsample=1, tree_method=None,\n",
       "              validate_parameters=False, verbosity=None)"
      ]
     },
     "execution_count": 43,
     "metadata": {},
     "output_type": "execute_result"
    }
   ],
   "source": [
    "xgb2_model = xgb.XGBClassifier()\n",
    "# no best parameter estimator search here just use the reduced principle  \n",
    "# component analysis \n",
    "xgb2_model.fit(X_train_pca, y_train.iloc[:,1])\n",
    "xgb2_model"
   ]
  },
  {
   "cell_type": "code",
   "execution_count": 44,
   "metadata": {},
   "outputs": [
    {
     "name": "stdout",
     "output_type": "stream",
     "text": [
      "Accuracy:  0.824\n"
     ]
    }
   ],
   "source": [
    "xgb2_pred = xgb2_model.predict(X_test_pca)\n",
    "\n",
    "print('Accuracy: ', round(accuracy_score(y_test.iloc[:,1], xgb2_pred), 3))"
   ]
  },
  {
   "cell_type": "code",
   "execution_count": 45,
   "metadata": {},
   "outputs": [
    {
     "data": {
      "image/png": "[encoded data removed]",
      "text/plain": [
       "<Figure size 432x288 with 2 Axes>"
      ]
     },
     "metadata": {
      "needs_background": "light"
     },
     "output_type": "display_data"
    }
   ],
   "source": [
    "cm_xgb2 = confusion_matrix(y_test.iloc[:,1], xgb2_pred)\n",
    "\n",
    "ax = plt.subplot()\n",
    "sns.heatmap(cm_xgb2, annot=True, ax = ax, fmt='g', cmap='Greens') \n",
    "\n",
    "# Labels, title and ticks\n",
    "ax.set_xlabel('Predicted labels')\n",
    "ax.set_ylabel('True labels') \n",
    "ax.set_title('XGB (PCA without Grid Search) Confusion Matrix') \n",
    "ax.xaxis.set_ticklabels(labels) \n",
    "ax.yaxis.set_ticklabels(labels, rotation=360);"
   ]
  },
  {
   "cell_type": "markdown",
   "metadata": {},
   "source": [
    "Grid search can result in some overfitting so be careful with this \n",
    "\n",
    "How to measure if there is overfitting in the model \n"
   ]
  },
  {
   "cell_type": "markdown",
   "metadata": {},
   "source": [
    "## XGB - PCA with no Grid Search "
   ]
  },
  {
   "cell_type": "code",
   "execution_count": 46,
   "metadata": {},
   "outputs": [
    {
     "name": "stdout",
     "output_type": "stream",
     "text": [
      "Accuracy:  0.824\n"
     ]
    },
    {
     "data": {
      "image/png": "[encoded data removed]",
      "text/plain": [
       "<Figure size 432x288 with 2 Axes>"
      ]
     },
     "metadata": {
      "needs_background": "light"
     },
     "output_type": "display_data"
    }
   ],
   "source": [
    "xgb2_model = xgb.XGBClassifier()\n",
    "xgb2_model.fit(X_train_pca, y_train.iloc[:,1])\n",
    "\n",
    "xgb2_pred = xgb2_model.predict(X_test_pca)\n",
    "\n",
    "print('Accuracy: ', round(accuracy_score(y_test.iloc[:,1], xgb2_pred), 3))\n",
    "\n",
    "cm_xgb2 = confusion_matrix(y_test.iloc[:,1], xgb2_pred)\n",
    "\n",
    "ax = plt.subplot()\n",
    "sns.heatmap(cm_xgb2, annot=True, ax = ax, fmt='g', cmap='Greens') \n",
    "\n",
    "# Labels, title and ticks\n",
    "ax.set_xlabel('Predicted labels')\n",
    "ax.set_ylabel('True labels') \n",
    "ax.set_title('XGB (PCA without Grid Search) Confusion Matrix') \n",
    "ax.xaxis.set_ticklabels(labels) \n",
    "ax.yaxis.set_ticklabels(labels, rotation=360);"
   ]
  },
  {
   "cell_type": "markdown",
   "metadata": {},
   "source": [
    "Without the grid search, this is barely any better. However, it seems that the grid search may possibly be resulting in some overfitting."
   ]
  },
  {
   "cell_type": "markdown",
   "metadata": {},
   "source": [
    "## XGB — no PCA or Grid Search"
   ]
  },
  {
   "cell_type": "code",
   "execution_count": 47,
   "metadata": {},
   "outputs": [
    {
     "name": "stdout",
     "output_type": "stream",
     "text": [
      "XGB (no PCA or Grid Search) accuracy: 0.912\n"
     ]
    },
    {
     "data": {
      "image/png": "[encoded data removed]",
      "text/plain": [
       "<Figure size 432x288 with 2 Axes>"
      ]
     },
     "metadata": {
      "needs_background": "light"
     },
     "output_type": "display_data"
    }
   ],
   "source": [
    "xgb3_model = xgb.XGBClassifier()\n",
    "xgb3_model.fit(X_train, y_train.iloc[:,1])\n",
    "\n",
    "xgb3_pred = xgb3_model.predict(X_test)\n",
    "\n",
    "print('XGB (no PCA or Grid Search) accuracy:', round(accuracy_score(y_test.iloc[:,1], xgb3_pred), 3))\n",
    "\n",
    "cm_xgb3 = confusion_matrix(y_test.iloc[:,1], xgb3_pred)\n",
    "\n",
    "ax = plt.subplot()\n",
    "sns.heatmap(cm_xgb3, annot=True, ax = ax, fmt='g', cmap='Greens') \n",
    "\n",
    "# Labels, title and ticks\n",
    "ax.set_xlabel('Predicted labels')\n",
    "ax.set_ylabel('True labels') \n",
    "ax.set_title('XGB (no PCA or Grid Search) Confusion Matrix') \n",
    "ax.xaxis.set_ticklabels(labels) \n",
    "ax.yaxis.set_ticklabels(labels, rotation=360);"
   ]
  },
  {
   "cell_type": "markdown",
   "metadata": {},
   "source": [
    "OK, that's more like it. It seems that the PCA was actually the wrong approach for the XGB model."
   ]
  },
  {
   "cell_type": "markdown",
   "metadata": {},
   "source": [
    "## Neural Networks "
   ]
  },
  {
   "cell_type": "code",
   "execution_count": 48,
   "metadata": {},
   "outputs": [],
   "source": [
    "# Create model architecture\n",
    "model = Sequential()\n",
    "model.add(Dense(16, activation='relu', input_shape=(7129,)))\n",
    "model.add(Dense(1, activation='sigmoid'))"
   ]
  },
  {
   "cell_type": "code",
   "execution_count": 49,
   "metadata": {},
   "outputs": [],
   "source": [
    "model.compile(optimizer='adam',\n",
    "loss='binary_crossentropy',\n",
    "metrics=['accuracy'])"
   ]
  },
  {
   "cell_type": "code",
   "execution_count": 50,
   "metadata": {},
   "outputs": [],
   "source": [
    "# Create training/validation sets\n",
    "partial_X_train = X_train_scl[:30]\n",
    "X_val = X_train_scl[30:]\n",
    "\n",
    "y_train_label = y_train.iloc[:,1]\n",
    "partial_y_train = y_train_label[:30]\n",
    "y_val = y_train_label[30:]"
   ]
  },
  {
   "cell_type": "code",
   "execution_count": 53,
   "metadata": {},
   "outputs": [
    {
     "name": "stdout",
     "output_type": "stream",
     "text": [
      "Train on 30 samples, validate on 8 samples\n",
      "Epoch 1/50\n",
      "30/30 [==============================] - 0s 13ms/step - loss: 0.8038 - acc: 0.5333 - val_loss: 0.0661 - val_acc: 1.0000\n",
      "Epoch 2/50\n",
      "30/30 [==============================] - 0s 553us/step - loss: 0.2346 - acc: 0.9667 - val_loss: 0.0063 - val_acc: 1.0000\n",
      "Epoch 3/50\n",
      "30/30 [==============================] - 0s 502us/step - loss: 0.1244 - acc: 0.9333 - val_loss: 0.0136 - val_acc: 1.0000\n",
      "Epoch 4/50\n",
      "30/30 [==============================] - 0s 588us/step - loss: 0.0051 - acc: 1.0000 - val_loss: 0.0193 - val_acc: 1.0000\n",
      "Epoch 5/50\n",
      "30/30 [==============================] - 0s 588us/step - loss: 0.0047 - acc: 1.0000 - val_loss: 0.0267 - val_acc: 1.0000\n",
      "Epoch 00005: early stopping\n"
     ]
    }
   ],
   "source": [
    "# Set up early stopping\n",
    "es = EarlyStopping(monitor='val_loss', verbose=1, patience=3)\n",
    "\n",
    "# Fit model\n",
    "history = model.fit(partial_X_train,\n",
    "            partial_y_train,\n",
    "            epochs=50,\n",
    "            batch_size=4,\n",
    "            validation_data=(X_val, y_val),\n",
    "            callbacks=[es])"
   ]
  },
  {
   "cell_type": "code",
   "execution_count": 54,
   "metadata": {},
   "outputs": [
    {
     "name": "stdout",
     "output_type": "stream",
     "text": [
      "Neural Network accuracy:  0.824\n"
     ]
    },
    {
     "data": {
      "image/png": "[encoded data removed]",
      "text/plain": [
       "<Figure size 432x288 with 2 Axes>"
      ]
     },
     "metadata": {
      "needs_background": "light"
     },
     "output_type": "display_data"
    }
   ],
   "source": [
    "# Make predictions\n",
    "nn_pred = model.predict_classes(X_test_scl)\n",
    "\n",
    "print('Neural Network accuracy: ', round(accuracy_score(y_test.iloc[:,1], nn_pred), 3))\n",
    "\n",
    "cm_nn = confusion_matrix(y_test.iloc[:,1], nn_pred)\n",
    "\n",
    "ax = plt.subplot()\n",
    "sns.heatmap(cm_nn, annot=True, ax = ax, fmt='g', cmap='Greens') \n",
    "\n",
    "# Labels, title and ticks\n",
    "ax.set_xlabel('Predicted labels')\n",
    "ax.set_ylabel('True labels') \n",
    "ax.set_title('Neural Network Confusion Matrix') \n",
    "ax.xaxis.set_ticklabels(labels) \n",
    "ax.yaxis.set_ticklabels(labels, rotation=360);"
   ]
  },
  {
   "cell_type": "markdown",
   "metadata": {},
   "source": [
    "In conclusion, it was the logistic regression model that provided the best performance on this dataset."
   ]
  },
  {
   "cell_type": "code",
   "execution_count": null,
   "metadata": {},
   "outputs": [],
   "source": []
  }
 ],
 "metadata": {
  "kernelspec": {
   "display_name": "Python 3",
   "language": "python",
   "name": "python3"
  },
  "language_info": {
   "codemirror_mode": {
    "name": "ipython",
    "version": 3
   },
   "file_extension": ".py",
   "mimetype": "text/x-python",
   "name": "python",
   "nbconvert_exporter": "python",
   "pygments_lexer": "ipython3",
   "version": "3.8.1"
  }
 },
 "nbformat": 4,
 "nbformat_minor": 2
}
