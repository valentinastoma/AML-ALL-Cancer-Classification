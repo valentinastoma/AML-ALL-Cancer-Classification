{
 "cells": [
  {
   "cell_type": "code",
   "execution_count": 1,
   "metadata": {},
   "outputs": [
    {
     "ename": "ModuleNotFoundError",
     "evalue": "No module named 'keras'",
     "output_type": "error",
     "traceback": [
      "\u001b[0;31m---------------------------------------------------------------------------\u001b[0m",
      "\u001b[0;31mModuleNotFoundError\u001b[0m                       Traceback (most recent call last)",
      "\u001b[0;32m<ipython-input-1-6a8f8e9f22c6>\u001b[0m in \u001b[0;36m<module>\u001b[0;34m\u001b[0m\n\u001b[1;32m     20\u001b[0m \u001b[0;32mimport\u001b[0m \u001b[0mxgboost\u001b[0m \u001b[0;32mas\u001b[0m \u001b[0mxgb\u001b[0m\u001b[0;34m\u001b[0m\u001b[0;34m\u001b[0m\u001b[0m\n\u001b[1;32m     21\u001b[0m \u001b[0;34m\u001b[0m\u001b[0m\n\u001b[0;32m---> 22\u001b[0;31m \u001b[0;32mfrom\u001b[0m \u001b[0mkeras\u001b[0m\u001b[0;34m.\u001b[0m\u001b[0mmodels\u001b[0m \u001b[0;32mimport\u001b[0m \u001b[0mSequential\u001b[0m\u001b[0;34m\u001b[0m\u001b[0;34m\u001b[0m\u001b[0m\n\u001b[0m\u001b[1;32m     23\u001b[0m \u001b[0;32mfrom\u001b[0m \u001b[0mkeras\u001b[0m\u001b[0;34m.\u001b[0m\u001b[0mlayers\u001b[0m \u001b[0;32mimport\u001b[0m \u001b[0mDense\u001b[0m\u001b[0;34m\u001b[0m\u001b[0;34m\u001b[0m\u001b[0m\n\u001b[1;32m     24\u001b[0m \u001b[0;32mfrom\u001b[0m \u001b[0mkeras\u001b[0m\u001b[0;34m.\u001b[0m\u001b[0mcallbacks\u001b[0m \u001b[0;32mimport\u001b[0m \u001b[0mEarlyStopping\u001b[0m\u001b[0;34m\u001b[0m\u001b[0;34m\u001b[0m\u001b[0m\n",
      "\u001b[0;31mModuleNotFoundError\u001b[0m: No module named 'keras'"
     ]
    }
   ],
   "source": [
    "# Import all the libraries that we shall be using\n",
    "import numpy as np\n",
    "import pandas as pd\n",
    "\n",
    "import matplotlib.pyplot as plt\n",
    "import seaborn as sns\n",
    "from mpl_toolkits.mplot3d import Axes3D\n",
    "%matplotlib inline\n",
    "\n",
    "from sklearn.preprocessing import StandardScaler\n",
    "from sklearn.decomposition import PCA\n",
    "from sklearn.model_selection import GridSearchCV, cross_val_score\n",
    "from sklearn.metrics import accuracy_score, confusion_matrix\n",
    "from sklearn.cluster import KMeans\n",
    "from sklearn.svm import SVC\n",
    "from sklearn.linear_model import LogisticRegression\n",
    "from sklearn.naive_bayes import GaussianNB\n",
    "from sklearn.ensemble import RandomForestClassifier\n",
    "\n",
    "import xgboost as xgb\n",
    "\n",
    "from keras.models import Sequential\n",
    "from keras.layers import Dense\n",
    "from keras.callbacks import EarlyStopping"
   ]
  },
  {
   "cell_type": "code",
   "execution_count": 7,
   "metadata": {},
   "outputs": [
    {
     "name": "stdout",
     "output_type": "stream",
     "text": [
      "Collecting xgboost\n",
      "  Using cached xgboost-1.0.2.tar.gz (821 kB)\n",
      "\u001b[31m    ERROR: Command errored out with exit status 1:\n",
      "     command: /Users/valentinastoma/opt/anaconda2/envs/py38/bin/python -c 'import sys, setuptools, tokenize; sys.argv[0] = '\"'\"'/private/var/folders/kp/ysy8n1l97bq5787g2vx8mhsh0000gn/T/pip-install-1mdcsnmq/xgboost/setup.py'\"'\"'; __file__='\"'\"'/private/var/folders/kp/ysy8n1l97bq5787g2vx8mhsh0000gn/T/pip-install-1mdcsnmq/xgboost/setup.py'\"'\"';f=getattr(tokenize, '\"'\"'open'\"'\"', open)(__file__);code=f.read().replace('\"'\"'\\r\\n'\"'\"', '\"'\"'\\n'\"'\"');f.close();exec(compile(code, __file__, '\"'\"'exec'\"'\"'))' egg_info --egg-base /private/var/folders/kp/ysy8n1l97bq5787g2vx8mhsh0000gn/T/pip-install-1mdcsnmq/xgboost/pip-egg-info\n",
      "         cwd: /private/var/folders/kp/ysy8n1l97bq5787g2vx8mhsh0000gn/T/pip-install-1mdcsnmq/xgboost/\n",
      "    Complete output (27 lines):\n",
      "    ++ pwd\n",
      "    + oldpath=/private/var/folders/kp/ysy8n1l97bq5787g2vx8mhsh0000gn/T/pip-install-1mdcsnmq/xgboost\n",
      "    + cd ./xgboost/\n",
      "    + mkdir -p build\n",
      "    + cd build\n",
      "    + cmake ..\n",
      "    ./xgboost/build-python.sh: line 21: cmake: command not found\n",
      "    + echo -----------------------------\n",
      "    -----------------------------\n",
      "    + echo 'Building multi-thread xgboost failed'\n",
      "    Building multi-thread xgboost failed\n",
      "    + echo 'Start to build single-thread xgboost'\n",
      "    Start to build single-thread xgboost\n",
      "    + cmake .. -DUSE_OPENMP=0\n",
      "    ./xgboost/build-python.sh: line 27: cmake: command not found\n",
      "    Traceback (most recent call last):\n",
      "      File \"<string>\", line 1, in <module>\n",
      "      File \"/private/var/folders/kp/ysy8n1l97bq5787g2vx8mhsh0000gn/T/pip-install-1mdcsnmq/xgboost/setup.py\", line 42, in <module>\n",
      "        LIB_PATH = libpath['find_lib_path']()\n",
      "      File \"/private/var/folders/kp/ysy8n1l97bq5787g2vx8mhsh0000gn/T/pip-install-1mdcsnmq/xgboost/xgboost/libpath.py\", line 47, in find_lib_path\n",
      "        raise XGBoostLibraryNotFound(\n",
      "    XGBoostLibraryNotFound: Cannot find XGBoost Library in the candidate path, did you install compilers and run build.sh in root path?\n",
      "    List of candidates:\n",
      "    /private/var/folders/kp/ysy8n1l97bq5787g2vx8mhsh0000gn/T/pip-install-1mdcsnmq/xgboost/xgboost/libxgboost.dylib\n",
      "    /private/var/folders/kp/ysy8n1l97bq5787g2vx8mhsh0000gn/T/pip-install-1mdcsnmq/xgboost/xgboost/../../lib/libxgboost.dylib\n",
      "    /private/var/folders/kp/ysy8n1l97bq5787g2vx8mhsh0000gn/T/pip-install-1mdcsnmq/xgboost/xgboost/./lib/libxgboost.dylib\n",
      "    /Users/valentinastoma/opt/anaconda2/envs/py38/xgboost/libxgboost.dylib\n",
      "    ----------------------------------------\u001b[0m\n",
      "\u001b[31mERROR: Command errored out with exit status 1: python setup.py egg_info Check the logs for full command output.\u001b[0m\n",
      "Note: you may need to restart the kernel to use updated packages.\n"
     ]
    }
   ],
   "source": [
    "#pip install xgboost"
   ]
  },
  {
   "cell_type": "code",
   "execution_count": 6,
   "metadata": {},
   "outputs": [
    {
     "ename": "ModuleNotFoundError",
     "evalue": "No module named 'xgboost'",
     "output_type": "error",
     "traceback": [
      "\u001b[0;31m---------------------------------------------------------------------------\u001b[0m",
      "\u001b[0;31mModuleNotFoundError\u001b[0m                       Traceback (most recent call last)",
      "\u001b[0;32m<ipython-input-6-5943d1bfe3f1>\u001b[0m in \u001b[0;36m<module>\u001b[0;34m\u001b[0m\n\u001b[0;32m----> 1\u001b[0;31m \u001b[0;32mimport\u001b[0m \u001b[0mxgboost\u001b[0m \u001b[0;32mas\u001b[0m \u001b[0mxgb\u001b[0m\u001b[0;34m\u001b[0m\u001b[0;34m\u001b[0m\u001b[0m\n\u001b[0m",
      "\u001b[0;31mModuleNotFoundError\u001b[0m: No module named 'xgboost'"
     ]
    }
   ],
   "source": [
    "import xgboost as xgb"
   ]
  },
  {
   "cell_type": "code",
   "execution_count": null,
   "metadata": {},
   "outputs": [],
   "source": []
  }
 ],
 "metadata": {
  "kernelspec": {
   "display_name": "Python 3",
   "language": "python",
   "name": "python3"
  },
  "language_info": {
   "codemirror_mode": {
    "name": "ipython",
    "version": 3
   },
   "file_extension": ".py",
   "mimetype": "text/x-python",
   "name": "python",
   "nbconvert_exporter": "python",
   "pygments_lexer": "ipython3",
   "version": "3.8.1"
  }
 },
 "nbformat": 4,
 "nbformat_minor": 2
}
